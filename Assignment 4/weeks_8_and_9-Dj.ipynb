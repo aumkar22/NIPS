{
 "cells": [
  {
   "cell_type": "markdown",
   "metadata": {
    "colab_type": "text",
    "id": "v2A09NebM_ux"
   },
   "source": [
    "**SOW-MKI49: Neural Information Processing Systems**  \n",
    "*Weeks 8 and 9: Assignment (100 points + 10 bonus points)*  \n",
    "Adapted from Andrew Ng's deep learning course."
   ]
  },
  {
   "cell_type": "markdown",
   "metadata": {
    "colab_type": "text",
    "id": "4A-4iKPzNFOq"
   },
   "source": [
    "# Deep Learning & Art: Neural Style Transfer\n",
    "\n",
    "In this assignment, you will learn about Neural Style Transfer. This algorithm was created by Gatys et al. (2015) (https://arxiv.org/abs/1508.06576). \n",
    "\n",
    "**In this assignment, you will:**\n",
    "- Implement the neural style transfer algorithm \n",
    "- Generate novel artistic images using your algorithm \n",
    "\n",
    "Most of the algorithms you've studied optimize a cost function to get a set of parameter values. In Neural Style Transfer, you'll optimize a cost function to get pixel values!"
   ]
  },
  {
   "cell_type": "markdown",
   "metadata": {
    "colab_type": "text",
    "id": "7korqD1tNb9R"
   },
   "source": [
    "## 1 - Problem Statement\n",
    "\n",
    "Neural Style Transfer (NST) is one of the most fun techniques in deep learning. It merges two images, namely, a \"content\" image (C) and a \"style\" image (S), to create a \"generated\" image (G). The generated image G combines the \"content\" of the image C with the \"style\" of image S. \n",
    "\n",
    "In this example, you are going to generate an image of the Heyendaal castle in Nijmegen (content image C), mixed with a painting by Vincent van Gogh, a leader of the post-impressionist movement (style image S).\n",
    "\n",
    "Let's see how you can do this. "
   ]
  },
  {
   "cell_type": "code",
   "execution_count": 14,
   "metadata": {},
   "outputs": [],
   "source": [
    "import os\n",
    "import sys\n",
    "import scipy.io\n",
    "import scipy.misc\n",
    "import tensorflow as tf\n",
    "import numpy as np\n",
    "import wget\n",
    "import imageio\n",
    "import skimage\n",
    "import matplotlib.pyplot as plt\n",
    "#import tensornets as tn\n",
    "from matplotlib.pyplot import imshow\n",
    "from PIL import Image\n",
    "from keras.applications import vgg19\n",
    "from keras import backend as k\n",
    "from keras.preprocessing.image import load_img, img_to_array\n",
    "from keras.applications.vgg19 import preprocess_input\n",
    "from skimage.transform import resize\n",
    "from keras import backend as K\n",
    "from scipy.optimize import fmin_l_bfgs_b\n",
    "\n",
    "%matplotlib inline"
   ]
  },
  {
   "cell_type": "markdown",
   "metadata": {
    "colab_type": "text",
    "id": "JKgdrfeQOofN"
   },
   "source": [
    "## 2 - Transfer Learning\n",
    "\n",
    "Neural Style Transfer (NST) uses a previously trained convolutional network, and builds on top of that. The idea of using a network trained on a different task and applying it to a new task is called transfer learning. \n",
    "\n",
    "Following the original NST paper (https://arxiv.org/abs/1508.06576), we will use the VGG network. Specifically, we'll use VGG-19, a 19-layer version of the VGG network. This model has already been trained on the very large ImageNet database, and thus has learned to recognize a variety of low level features (at the earlier layers) and high level features (at the deeper layers). \n",
    "\n",
    "Run the following code to load parameters from the VGG model. This may take a few seconds. "
   ]
  },
  {
   "cell_type": "markdown",
   "metadata": {
    "colab_type": "text",
    "id": "rQF1Bjf5PP-U"
   },
   "source": [
    "## 3 - Neural Style Transfer \n",
    "\n",
    "We will build the NST algorithm in three steps:\n",
    "\n",
    "- Build the content cost function $J_{content}(C,G)$\n",
    "- Build the style cost function $J_{style}(S,G)$\n",
    "- Put it together to get $J(G) = \\alpha J_{content}(C,G) + \\beta J_{style}(S,G)$. \n",
    "\n",
    "### 3.1 - Computing the content cost\n",
    "\n",
    "In our running example, the content image C will be the picture of the Heyendaal castle in Nijmegen. Run the code below to see a picture of the Heyendaal castle."
   ]
  },
  {
   "cell_type": "code",
   "execution_count": null,
   "metadata": {
    "colab": {},
    "colab_type": "code",
    "id": "BQv01etuP8nC"
   },
   "outputs": [],
   "source": [
    "url = \"https://upload.wikimedia.org/wikipedia/commons/thumb/9/9e/Heyendaal.jpg/640px-Heyendaal.jpg\"\n",
    "filename = wget.download(url)\n",
    "content_image = imageio.imread(\"640px-Heyendaal.jpg\")\n",
    "imshow(content_image)"
   ]
  },
  {
   "cell_type": "markdown",
   "metadata": {
    "colab_type": "text",
    "id": "0wtuXKm1QUmt"
   },
   "source": [
    "** 3.1.1 - How do you ensure the generated image G matches the content of the image C?**\n",
    "\n",
    "As we saw in lecture, the earlier (shallower) layers of a ConvNet tend to detect lower-level features such as edges and simple textures, and the later (deeper) layers tend to detect higher-level features such as more complex textures as well as object classes. \n",
    "\n",
    "We would like the \"generated\" image G to have similar content as the input image C. Suppose you have chosen some layer's activations to represent the content of an image. In practice, you'll get the most visually pleasing results if you choose a layer in the middle of the network--neither too shallow nor too deep. (After you have finished this exercise, feel free to come back and experiment with using different layers, to see how the results vary.)\n",
    "\n",
    "So, suppose you have picked one particular hidden layer to use. Now, set the image C as the input to the pretrained VGG network, and run forward propagation. Let $a^{(C)}$ be the hidden layer activations in the layer you had chosen. This will be a $n_H \\times n_W \\times n_C$ tensor. Repeat this process with the image G: Set G as the input, and run forward progation. Let $a^{(G)}$ be the corresponding hidden layer activation. We will define as the content cost function as:\n",
    "\n",
    "$$J_{content}(C,G) =  \\frac{1}{4 \\times n_H \\times n_W \\times n_C}\\sum _{ \\text{all entries}} (a^{(C)} - a^{(G)})^2\\tag{1} $$\n",
    "\n",
    "Here, $n_H, n_W$ and $n_C$ are the height, width and number of channels of the hidden layer you have chosen, and appear in a normalization term in the cost. For clarity, note that $a^{(C)}$ and $a^{(G)}$ are the volumes corresponding to a hidden layer's activations. In order to compute the cost $J_{content}(C,G)$, it might also be convenient to unroll these 3D volumes into a 2D matrix, as shown below. (Technically this unrolling step isn't needed to compute $J_{content}$, but it will be good practice for when you do need to carry out a similar operation later for computing the style const $J_{style}$.)\n",
    "\n",
    "<img src=\"https://i.postimg.cc/YqbBM5jM/NST-LOSS.png\">\n",
    "\n"
   ]
  },
  {
   "cell_type": "markdown",
   "metadata": {
    "colab_type": "text",
    "id": "oulcXwqRmef8"
   },
   "source": [
    "**Exercise (10 points)**\n",
    "\n",
    "Compute the \"content cost\" using Chainer. \n",
    "\n",
    "**Instructions**: The 3 steps to implement this function are:\n",
    "1. Retrieve dimensions from a_G.\n",
    "2. Unroll a_C and a_G.\n",
    "3. Compute the content cost."
   ]
  },
  {
   "cell_type": "code",
   "execution_count": 2,
   "metadata": {
    "colab": {},
    "colab_type": "code",
    "id": "weU2S2kjRQhS"
   },
   "outputs": [],
   "source": [
    "def compute_content_cost(a_C, a_G):\n",
    "    \"\"\"\n",
    "    Computes the content cost\n",
    "    \n",
    "    Arguments:\n",
    "    a_C -- tensor of dimension (1, n_C, n_H, n_W), hidden layer activations representing content of the image C \n",
    "    a_G -- tensor of dimension (1, n_C, n_H, n_W), hidden layer activations representing content of the image G\n",
    "    \n",
    "    Returns: \n",
    "    J_content -- scalar that you compute using equation 1 above.\n",
    "    \"\"\"\n",
    "    \n",
    "    ### START CODE HERE ###\n",
    "    n_C = K.shape(a_G)[3]\n",
    "    n_H = K.shape(a_G)[1]\n",
    "    n_W = K.shape(a_G)[2]\n",
    "    \n",
    "    J_1 = (1 / (4 * n_H * n_W * n_C))\n",
    "    J_2 =  k.sum(k.pow((a_C - a_G), 2))\n",
    "    J_2 = tf.keras.backend.cast(J_2, 'float64')\n",
    "    ### END CODE HERE ###\n",
    "    \n",
    "    return J_1 * J_2"
   ]
  },
  {
   "cell_type": "markdown",
   "metadata": {
    "colab_type": "text",
    "id": "RYz0cRopRcdm"
   },
   "source": [
    "### 3.2 - Computing the style cost\n",
    "\n",
    "For our running example, we will use the following style image: "
   ]
  },
  {
   "cell_type": "code",
   "execution_count": null,
   "metadata": {
    "colab": {},
    "colab_type": "code",
    "id": "iNmZT0MDRgRF"
   },
   "outputs": [],
   "source": [
    "url = \"https://upload.wikimedia.org/wikipedia/commons/thumb/e/ea/Van_Gogh_-_Starry_Night_-_Google_Art_Project.jpg/606px-Van_Gogh_-_Starry_Night_-_Google_Art_Project.jpg\"\n",
    "wget.download(url)\n",
    "style_image = imageio.imread(\"606px-Van_Gogh_-_Starry_Night_-_Google_Art_Project.jpg\")\n",
    "imshow(style_image)"
   ]
  },
  {
   "cell_type": "markdown",
   "metadata": {
    "colab_type": "text",
    "id": "Dla9VKXZR3FS"
   },
   "source": [
    "### 3.2.1 - Style matrix\n",
    "\n",
    "The style matrix is also called a \"Gram matrix.\" In linear algebra, the Gram matrix G of a set of vectors $(v_{1},\\dots ,v_{n})$ is the matrix of dot products, whose entries are ${\\displaystyle G_{ij} = v_{i}^T v_{j} = np.dot(v_{i}, v_{j})  }$. In other words, $G_{ij}$ compares how similar $v_i$ is to $v_j$: If they are highly similar, you would expect them to have a large dot product, and thus for $G_{ij}$ to be large. \n",
    "\n",
    "Note that there is an unfortunate collision in the variable names used here. We are following common terminology used in the literature, but $G$ is used to denote the Style matrix (or Gram matrix) as well as to denote the generated image $G$. We will try to make sure which $G$ we are referring to is always clear from the context. \n",
    "\n",
    "In NST, you can compute the Style matrix by multiplying the \"unrolled\" filter matrix with their transpose:\n",
    "\n",
    "<img src=\"https://i.postimg.cc/Fzx5fqZb/NST-GM.png\">\n",
    "\n",
    "The result is a matrix of dimension $(n_C,n_C)$ where $n_C$ is the number of filters. The value $G_{ij}$ measures how similar the activations of filter $i$ are to the activations of filter $j$. \n",
    "\n",
    "One important part of the gram matrix is that the diagonal elements such as $G_{ii}$ also measures how active filter $i$ is. For example, suppose filter $i$ is detecting vertical textures in the image. Then $G_{ii}$ measures how common  vertical textures are in the image as a whole: If $G_{ii}$ is large, this means that the image has a lot of vertical texture. \n",
    "\n",
    "By capturing the prevalence of different types of features ($G_{ii}$), as well as how much different features occur together ($G_{ij}$), the Style matrix $G$ measures the style of an image. \n",
    "\n"
   ]
  },
  {
   "cell_type": "markdown",
   "metadata": {
    "colab_type": "text",
    "id": "s-qhGKlHh35q"
   },
   "source": [
    "**Exercise (10 points)**:\n",
    "Using Chainer, implement a function that computes the Gram matrix of a matrix A. The formula is: The gram matrix of A is $G_A = AA^T$."
   ]
  },
  {
   "cell_type": "code",
   "execution_count": 3,
   "metadata": {
    "colab": {},
    "colab_type": "code",
    "id": "5eEIqKObR2cX"
   },
   "outputs": [],
   "source": [
    "def gram_matrix(A):\n",
    "    \"\"\"\n",
    "    Argument:\n",
    "    A -- matrix of shape (n_C, n_H*n_W)\n",
    "    \n",
    "    Returns:\n",
    "    GA -- Gram matrix of A, of shape (n_C, n_C)\n",
    "    \"\"\"\n",
    "    \n",
    "    ### START CODE HERE ###\n",
    "    GA = K.dot(A, K.transpose(A))\n",
    "    ### END CODE HERE ###\n",
    "    \n",
    "    return GA"
   ]
  },
  {
   "cell_type": "markdown",
   "metadata": {
    "colab_type": "text",
    "id": "sddiBrDmSljO"
   },
   "source": [
    "### 3.2.2 - Style cost\n",
    "\n",
    "After generating the Style matrix (Gram matrix), your goal will be to minimize the distance between the Gram matrix of the \"style\" image S and that of the \"generated\" image G. For now, we are using only a single hidden layer $a^{[l]}$, and the corresponding style cost for this layer is defined as: \n",
    "\n",
    "$$J_{style}^{[l]}(S,G) = \\frac{1}{4 \\times {n_C}^2 \\times (n_H \\times n_W)^2} \\sum _{i=1}^{n_C}\\sum_{j=1}^{n_C}(G^{(S)}_{ij} - G^{(G)}_{ij})^2\\tag{2} $$\n",
    "\n",
    "where $G^{(S)}$ and $G^{(G)}$ are respectively the Gram matrices of the \"style\" image and the \"generated\" image, computed using the hidden layer activations for a particular hidden layer in the network.  \n"
   ]
  },
  {
   "cell_type": "markdown",
   "metadata": {
    "colab_type": "text",
    "id": "B-XaR79zh2F9"
   },
   "source": [
    "**Exercise (10 points)**:\n",
    "\n",
    "Compute the style cost for a single layer. \n",
    "\n",
    "The 3 steps to implement this function are:\n",
    "1. Retrieve dimensions from the hidden layer activations a_G\n",
    "2. Unroll the hidden layer activations a_S and a_G into 2D matrices, as explained in the picture above.\n",
    "3. Compute the Style matrix of the images S and G. (Use the function you had previously written.) \n",
    "4. Compute the Style cost."
   ]
  },
  {
   "cell_type": "code",
   "execution_count": 4,
   "metadata": {
    "colab": {},
    "colab_type": "code",
    "id": "gR5-74r9R2eP"
   },
   "outputs": [],
   "source": [
    "def compute_layer_style_cost(a_S, a_G):\n",
    "    \"\"\"\n",
    "    Arguments:\n",
    "    a_S -- tensor of dimension (1, n_C, n_H, n_W), hidden layer activations representing style of the image S \n",
    "    a_G -- tensor of dimension (1, n_C, n_H, n_W), hidden layer activations representing style of the image G\n",
    "    \n",
    "    Returns: \n",
    "    J_style_layer -- tensor representing a scalar value, style cost defined above by equation (2)\n",
    "    \"\"\"\n",
    "    \n",
    "    ### START CODE HERE ###\n",
    "    n_C = K.shape(a_G)[1] # Has to be changed (because of chainer vs Keras)\n",
    "    n_H = K.shape(a_G)[2] # Has to be changed (because of chainer vs Keras)\n",
    "    n_W = K.shape(a_G)[3] # Has to be changed (because of chainer vs Keras)\n",
    "    \n",
    "    a_S_unrolled = K.reshape(a_S, (n_C, n_H * n_W))\n",
    "    a_G_unrolled = K.reshape(a_G, (n_C, n_H * n_W))\n",
    "    \n",
    "    gram_S = gram_matrix(a_S_unrolled)\n",
    "    gram_G = gram_matrix(a_G_unrolled)\n",
    "    \n",
    "    difference_grams_squared = K.pow((gram_S - gram_G), 2)\n",
    "    J_1 = (1/(4 * (n_C ** 2) * (n_H * n_W) ** 2))\n",
    "    J_2 = K.sum(difference_grams_squared)\n",
    "    J_2 = tf.keras.backend.cast(J_2, 'float64')\n",
    "    ### END CODE HERE ###\n",
    "    \n",
    "    return J_1 * J_2"
   ]
  },
  {
   "cell_type": "markdown",
   "metadata": {
    "colab_type": "text",
    "id": "CzY5UKpWS7oT"
   },
   "source": [
    "### 3.2.3 Style Weights\n",
    "\n",
    "So far you have captured the style from only one layer. We'll get better results if we \"merge\" style costs from several different layers. After completing this exercise, feel free to come back and experiment with different weights to see how it changes the generated image $G$. But for now, this is a pretty reasonable default: "
   ]
  },
  {
   "cell_type": "code",
   "execution_count": 5,
   "metadata": {
    "colab": {},
    "colab_type": "code",
    "id": "e5ojObTnS-T4"
   },
   "outputs": [],
   "source": [
    "style_layers = [('block1_conv1', 0.2), ('block2_conv1', 0.2), ('block3_conv1', 0.2), ('block4_conv1', 0.2), ('block5_conv1', 0.2)]"
   ]
  },
  {
   "cell_type": "markdown",
   "metadata": {
    "colab_type": "text",
    "id": "KZQPbD64S-1H"
   },
   "source": [
    "You can combine the style costs for different layers as follows:\n",
    "\n",
    "$$J_{style}(S,G) = \\sum_{l} \\lambda^{[l]} J^{[l]}_{style}(S,G)$$\n",
    "\n",
    "where the values for $\\lambda^{[l]}$ are given in `STYLE_LAYERS`. \n"
   ]
  },
  {
   "cell_type": "markdown",
   "metadata": {
    "colab_type": "text",
    "id": "DY03-15KTC4D"
   },
   "source": [
    "**Exercise (10 points)**\n",
    "\n",
    "Implement the `compute_style_cost(...)` function. It should simply call the `compute_layer_style_cost(...)` several times, and weight their results using the values in `STYLE_LAYERS`."
   ]
  },
  {
   "cell_type": "code",
   "execution_count": 6,
   "metadata": {
    "colab": {},
    "colab_type": "code",
    "id": "VDFDI3jHTOGz"
   },
   "outputs": [],
   "source": [
    "def compute_style_cost(STYLE_LAYERS):\n",
    "    \"\"\"\n",
    "    Computes the overall style cost from several chosen layers\n",
    "    \n",
    "    Arguments:\n",
    "    model -- our tensorflow model\n",
    "    STYLE_LAYERS -- A python list containing:\n",
    "                        - the names of the layers we would like to extract style from\n",
    "                        - a coefficient for each of them\n",
    "    \n",
    "    Returns: \n",
    "    J_style -- tensor representing a scalar value, style cost defined above by equation (2)\n",
    "    \"\"\"\n",
    "    \n",
    "    ### START CODE HERE ###\n",
    "    J_style =0 \n",
    " \n",
    "    for (layer, l_ambda) in STYLE_LAYERS:\n",
    "        \n",
    "        activation_s = sModel.get_layer(layer).output    \n",
    "        activation_g = gModel.get_layer(layer).output   \n",
    "        layer_cost = compute_layer_style_cost(activation_s, activation_g)\n",
    "        J_style += l_ambda * layer_cost\n",
    "    ### END CODE HERE ###\n",
    "\n",
    "    return J_style"
   ]
  },
  {
   "cell_type": "markdown",
   "metadata": {
    "colab_type": "text",
    "id": "BToaOaEQTjnL"
   },
   "source": [
    "Finally, let's create a cost function that minimizes both the style and the content cost. The formula is: \n",
    "\n",
    "$$J(G) = \\alpha J_{content}(C,G) + \\beta J_{style}(S,G)$$"
   ]
  },
  {
   "cell_type": "markdown",
   "metadata": {
    "colab_type": "text",
    "id": "enJWYsg-hlzQ"
   },
   "source": [
    "**Exercise (10 points)**\n",
    "\n",
    "Implement the total cost function which includes both the content cost and the style cost."
   ]
  },
  {
   "cell_type": "code",
   "execution_count": 7,
   "metadata": {
    "colab": {},
    "colab_type": "code",
    "id": "21lvXvOETmcF"
   },
   "outputs": [],
   "source": [
    "def total_cost(J_content, J_style, alpha = 10, beta = 40):\n",
    "    \"\"\"\n",
    "    Computes the total cost function\n",
    "    \n",
    "    Arguments:\n",
    "    J_content -- content cost coded above\n",
    "    J_style -- style cost coded above\n",
    "    alpha -- hyperparameter weighting the importance of the content cost\n",
    "    beta -- hyperparameter weighting the importance of the style cost\n",
    "    \n",
    "    Returns:\n",
    "    J -- total cost as defined by the formula above.\n",
    "    \"\"\"\n",
    "    \n",
    "    ### START CODE HERE ###\n",
    "    J = alpha * J_content + beta * J_style\n",
    "    ### END CODE HERE ###\n",
    "    \n",
    "    return J"
   ]
  },
  {
   "cell_type": "code",
   "execution_count": 27,
   "metadata": {},
   "outputs": [],
   "source": [
    "def get_total_cost(gImPlaceholder):\n",
    "    a_C = cModel.get_layer(cLayerName).output    \n",
    "    a_G = gModel.get_layer(cLayerName).output\n",
    "    J_content = compute_content_cost(a_C, a_G)\n",
    "    J_style = compute_style_cost(style_layers)\n",
    "    J_total = total_cost(J_content, J_style)\n",
    "    return J_total"
   ]
  },
  {
   "cell_type": "markdown",
   "metadata": {
    "colab_type": "text",
    "id": "Fsoq_edVTtzW"
   },
   "source": [
    "## 4 - Solving the optimization problem (50 points)"
   ]
  },
  {
   "cell_type": "markdown",
   "metadata": {
    "colab_type": "text",
    "id": "D-qlKsDgTw_o"
   },
   "source": [
    "Finally, let's put everything together to implement Neural Style Transfer!\n",
    "\n",
    "\n",
    "Here's what the program will have to do:\n",
    "<font color='purple'>\n",
    "\n",
    "1. Load the content image \n",
    "2. Load the style image\n",
    "3. Randomly initialize the image to be generated \n",
    "4. Load the VGG16 model\n",
    "5. Build a Chainer Model:\n",
    "    6. Run the content image through the VGG16 model and compute the content cost\n",
    "    7. Run the style image through the VGG16 model and compute the style cost\n",
    "    8. Compute the total cost\n",
    "    9. Define the optimizer and the learning rate\n",
    "10. Initialize the Chainer model and run it for a large number of iterations, updating the generated image at every step."
   ]
  },
  {
   "cell_type": "markdown",
   "metadata": {
    "colab_type": "text",
    "id": "4-GnfYUJUD_3"
   },
   "source": [
    "Let's load, reshape, and normalize our \"content\" image (the Louvre museum picture):"
   ]
  },
  {
   "cell_type": "code",
   "execution_count": 8,
   "metadata": {},
   "outputs": [
    {
     "name": "stderr",
     "output_type": "stream",
     "text": [
      "C:\\Users\\Djamari\\Anaconda2\\envs\\py3k6\\lib\\site-packages\\skimage\\transform\\_warps.py:84: UserWarning: The default mode, 'constant', will be changed to 'reflect' in skimage 0.15.\n",
      "  warn(\"The default mode, 'constant', will be changed to 'reflect' in \"\n"
     ]
    }
   ],
   "source": [
    "# resize content and style image so that they have the same dimensions\n",
    "# also add extra dimension, to account for batch size\n",
    "targetWidth = 447\n",
    "targetHeight = 606\n",
    "style_image = imageio.imread(\"606px-Van_Gogh_-_Starry_Night_-_Google_Art_Project.jpg\")\n",
    "style_image = resize(style_image, (targetWidth, targetHeight))\n",
    "style_image = K.variable(preprocess_input(np.expand_dims(style_image, axis=0)), dtype='float32')\n",
    "\n",
    "content_image = imageio.imread(\"640px-Heyendaal.jpg\")\n",
    "content_image = resize(content_image, (targetWidth, targetHeight))\n",
    "content_image = K.variable(preprocess_input(np.expand_dims(content_image, axis=0)), dtype='float32')\n",
    "\n",
    "### possibly normalize images as well but maybe not necessary\n",
    "\n",
    "generated_image =  np.random.rand(targetWidth, targetHeight, 3).astype('float64')\n",
    "generated_image = preprocess_input(np.expand_dims(generated_image, axis =0))\n",
    "generated_image_placeholder = tf.get_variable('generated_img', shape=(1, targetWidth, targetHeight, 3), dtype = 'float32')\n",
    "#generated_image = K.variable(preprocess_input(np.expand_dims(generated_image, axis=0)), dtype='float32')"
   ]
  },
  {
   "cell_type": "code",
   "execution_count": 9,
   "metadata": {},
   "outputs": [],
   "source": [
    "generated_image_ = tf.convert_to_tensor(generated_image, dtype = 'float32')"
   ]
  },
  {
   "cell_type": "code",
   "execution_count": null,
   "metadata": {},
   "outputs": [],
   "source": [
    "generated_image_placeholder.dtype"
   ]
  },
  {
   "cell_type": "code",
   "execution_count": null,
   "metadata": {},
   "outputs": [],
   "source": [
    "(generated_image_.dtype)"
   ]
  },
  {
   "cell_type": "code",
   "execution_count": 28,
   "metadata": {},
   "outputs": [],
   "source": [
    "def get_gradient(gImArr):\n",
    "    #TODO: change this function to something less copy-pasta\n",
    "    #pdb.set_trace()\n",
    "    if gImArr.shape != (1, targetWidth, targetHeight, 3):\n",
    "        gImArr = gImArr.reshape((1, targetWidth, targetHeight, 3))\n",
    "    grad_fcn = K.function([gModel.input], K.gradients(compute_loss(gModel.input), [gModel.input]))\n",
    "    grad = grad_fcn([gImArr])[0].flatten().astype('float64')\n",
    "    return grad"
   ]
  },
  {
   "cell_type": "code",
   "execution_count": null,
   "metadata": {},
   "outputs": [],
   "source": []
  },
  {
   "cell_type": "code",
   "execution_count": 29,
   "metadata": {},
   "outputs": [],
   "source": [
    "def compute_loss(generatedImage):\n",
    "    if gImArr.shape != (1, targetWidth, targetWidth, 3):\n",
    "        gImArr = gImArr.reshape((1, targetWidth, targetHeight, 3))\n",
    "    loss_fcn = K.function([gModel.input], [get_total_loss(gModel.input)])\n",
    "    return loss_fcn([gImArr])[0].astype('float64')\n"
   ]
  },
  {
   "cell_type": "code",
   "execution_count": 30,
   "metadata": {},
   "outputs": [
    {
     "ename": "ResourceExhaustedError",
     "evalue": "OOM when allocating tensor with shape[3,3,512,512] and type float on /job:localhost/replica:0/task:0/device:GPU:0 by allocator GPU_0_bfc\n\t [[Node: block4_conv2_19/random_uniform/RandomUniform = RandomUniform[T=DT_INT32, dtype=DT_FLOAT, seed=87654321, seed2=3848874, _device=\"/job:localhost/replica:0/task:0/device:GPU:0\"](block4_conv2_19/random_uniform/shape)]]\nHint: If you want to see a list of allocated tensors when OOM happens, add report_tensor_allocations_upon_oom to RunOptions for current allocation info.\n\n\nCaused by op 'block4_conv2_19/random_uniform/RandomUniform', defined at:\n  File \"C:\\Users\\Djamari\\Anaconda2\\envs\\py3k6\\lib\\runpy.py\", line 193, in _run_module_as_main\n    \"__main__\", mod_spec)\n  File \"C:\\Users\\Djamari\\Anaconda2\\envs\\py3k6\\lib\\runpy.py\", line 85, in _run_code\n    exec(code, run_globals)\n  File \"C:\\Users\\Djamari\\Anaconda2\\envs\\py3k6\\lib\\site-packages\\ipykernel_launcher.py\", line 16, in <module>\n    app.launch_new_instance()\n  File \"C:\\Users\\Djamari\\Anaconda2\\envs\\py3k6\\lib\\site-packages\\traitlets\\config\\application.py\", line 658, in launch_instance\n    app.start()\n  File \"C:\\Users\\Djamari\\Anaconda2\\envs\\py3k6\\lib\\site-packages\\ipykernel\\kernelapp.py\", line 486, in start\n    self.io_loop.start()\n  File \"C:\\Users\\Djamari\\Anaconda2\\envs\\py3k6\\lib\\site-packages\\tornado\\platform\\asyncio.py\", line 127, in start\n    self.asyncio_loop.run_forever()\n  File \"C:\\Users\\Djamari\\Anaconda2\\envs\\py3k6\\lib\\asyncio\\base_events.py\", line 422, in run_forever\n    self._run_once()\n  File \"C:\\Users\\Djamari\\Anaconda2\\envs\\py3k6\\lib\\asyncio\\base_events.py\", line 1432, in _run_once\n    handle._run()\n  File \"C:\\Users\\Djamari\\Anaconda2\\envs\\py3k6\\lib\\asyncio\\events.py\", line 145, in _run\n    self._callback(*self._args)\n  File \"C:\\Users\\Djamari\\Anaconda2\\envs\\py3k6\\lib\\site-packages\\tornado\\platform\\asyncio.py\", line 117, in _handle_events\n    handler_func(fileobj, events)\n  File \"C:\\Users\\Djamari\\Anaconda2\\envs\\py3k6\\lib\\site-packages\\tornado\\stack_context.py\", line 276, in null_wrapper\n    return fn(*args, **kwargs)\n  File \"C:\\Users\\Djamari\\Anaconda2\\envs\\py3k6\\lib\\site-packages\\zmq\\eventloop\\zmqstream.py\", line 450, in _handle_events\n    self._handle_recv()\n  File \"C:\\Users\\Djamari\\Anaconda2\\envs\\py3k6\\lib\\site-packages\\zmq\\eventloop\\zmqstream.py\", line 480, in _handle_recv\n    self._run_callback(callback, msg)\n  File \"C:\\Users\\Djamari\\Anaconda2\\envs\\py3k6\\lib\\site-packages\\zmq\\eventloop\\zmqstream.py\", line 432, in _run_callback\n    callback(*args, **kwargs)\n  File \"C:\\Users\\Djamari\\Anaconda2\\envs\\py3k6\\lib\\site-packages\\tornado\\stack_context.py\", line 276, in null_wrapper\n    return fn(*args, **kwargs)\n  File \"C:\\Users\\Djamari\\Anaconda2\\envs\\py3k6\\lib\\site-packages\\ipykernel\\kernelbase.py\", line 283, in dispatcher\n    return self.dispatch_shell(stream, msg)\n  File \"C:\\Users\\Djamari\\Anaconda2\\envs\\py3k6\\lib\\site-packages\\ipykernel\\kernelbase.py\", line 233, in dispatch_shell\n    handler(stream, idents, msg)\n  File \"C:\\Users\\Djamari\\Anaconda2\\envs\\py3k6\\lib\\site-packages\\ipykernel\\kernelbase.py\", line 399, in execute_request\n    user_expressions, allow_stdin)\n  File \"C:\\Users\\Djamari\\Anaconda2\\envs\\py3k6\\lib\\site-packages\\ipykernel\\ipkernel.py\", line 208, in do_execute\n    res = shell.run_cell(code, store_history=store_history, silent=silent)\n  File \"C:\\Users\\Djamari\\Anaconda2\\envs\\py3k6\\lib\\site-packages\\ipykernel\\zmqshell.py\", line 537, in run_cell\n    return super(ZMQInteractiveShell, self).run_cell(*args, **kwargs)\n  File \"C:\\Users\\Djamari\\Anaconda2\\envs\\py3k6\\lib\\site-packages\\IPython\\core\\interactiveshell.py\", line 2662, in run_cell\n    raw_cell, store_history, silent, shell_futures)\n  File \"C:\\Users\\Djamari\\Anaconda2\\envs\\py3k6\\lib\\site-packages\\IPython\\core\\interactiveshell.py\", line 2785, in _run_cell\n    interactivity=interactivity, compiler=compiler, result=result)\n  File \"C:\\Users\\Djamari\\Anaconda2\\envs\\py3k6\\lib\\site-packages\\IPython\\core\\interactiveshell.py\", line 2903, in run_ast_nodes\n    if self.run_code(code, result):\n  File \"C:\\Users\\Djamari\\Anaconda2\\envs\\py3k6\\lib\\site-packages\\IPython\\core\\interactiveshell.py\", line 2963, in run_code\n    exec(code_obj, self.user_global_ns, self.user_ns)\n  File \"<ipython-input-30-00d4ff1407f7>\", line 11, in <module>\n    cModel = vgg19.VGG19(include_top=False, weights='imagenet', input_tensor=content_image)\n  File \"C:\\Users\\Djamari\\Anaconda2\\envs\\py3k6\\lib\\site-packages\\keras_applications\\vgg19.py\", line 157, in VGG19\n    name='block4_conv2')(x)\n  File \"C:\\Users\\Djamari\\Anaconda2\\envs\\py3k6\\lib\\site-packages\\keras\\engine\\base_layer.py\", line 431, in __call__\n    self.build(unpack_singleton(input_shapes))\n  File \"C:\\Users\\Djamari\\Anaconda2\\envs\\py3k6\\lib\\site-packages\\keras\\layers\\convolutional.py\", line 138, in build\n    constraint=self.kernel_constraint)\n  File \"C:\\Users\\Djamari\\Anaconda2\\envs\\py3k6\\lib\\site-packages\\keras\\legacy\\interfaces.py\", line 91, in wrapper\n    return func(*args, **kwargs)\n  File \"C:\\Users\\Djamari\\Anaconda2\\envs\\py3k6\\lib\\site-packages\\keras\\engine\\base_layer.py\", line 249, in add_weight\n    weight = K.variable(initializer(shape),\n  File \"C:\\Users\\Djamari\\Anaconda2\\envs\\py3k6\\lib\\site-packages\\keras\\initializers.py\", line 218, in __call__\n    dtype=dtype, seed=self.seed)\n  File \"C:\\Users\\Djamari\\Anaconda2\\envs\\py3k6\\lib\\site-packages\\keras\\backend\\tensorflow_backend.py\", line 4049, in random_uniform\n    dtype=dtype, seed=seed)\n  File \"C:\\Users\\Djamari\\Anaconda2\\envs\\py3k6\\lib\\site-packages\\tensorflow\\python\\ops\\random_ops.py\", line 240, in random_uniform\n    shape, dtype, seed=seed1, seed2=seed2)\n  File \"C:\\Users\\Djamari\\Anaconda2\\envs\\py3k6\\lib\\site-packages\\tensorflow\\python\\ops\\gen_random_ops.py\", line 487, in _random_uniform\n    name=name)\n  File \"C:\\Users\\Djamari\\Anaconda2\\envs\\py3k6\\lib\\site-packages\\tensorflow\\python\\framework\\op_def_library.py\", line 787, in _apply_op_helper\n    op_def=op_def)\n  File \"C:\\Users\\Djamari\\Anaconda2\\envs\\py3k6\\lib\\site-packages\\tensorflow\\python\\framework\\ops.py\", line 3160, in create_op\n    op_def=op_def)\n  File \"C:\\Users\\Djamari\\Anaconda2\\envs\\py3k6\\lib\\site-packages\\tensorflow\\python\\framework\\ops.py\", line 1625, in __init__\n    self._traceback = self._graph._extract_stack()  # pylint: disable=protected-access\n\nResourceExhaustedError (see above for traceback): OOM when allocating tensor with shape[3,3,512,512] and type float on /job:localhost/replica:0/task:0/device:GPU:0 by allocator GPU_0_bfc\n\t [[Node: block4_conv2_19/random_uniform/RandomUniform = RandomUniform[T=DT_INT32, dtype=DT_FLOAT, seed=87654321, seed2=3848874, _device=\"/job:localhost/replica:0/task:0/device:GPU:0\"](block4_conv2_19/random_uniform/shape)]]\nHint: If you want to see a list of allocated tensors when OOM happens, add report_tensor_allocations_upon_oom to RunOptions for current allocation info.\n\n",
     "output_type": "error",
     "traceback": [
      "\u001b[1;31m---------------------------------------------------------------------------\u001b[0m",
      "\u001b[1;31mResourceExhaustedError\u001b[0m                    Traceback (most recent call last)",
      "\u001b[1;32m~\\Anaconda2\\envs\\py3k6\\lib\\site-packages\\tensorflow\\python\\client\\session.py\u001b[0m in \u001b[0;36m_do_call\u001b[1;34m(self, fn, *args)\u001b[0m\n\u001b[0;32m   1349\u001b[0m     \u001b[1;32mtry\u001b[0m\u001b[1;33m:\u001b[0m\u001b[1;33m\u001b[0m\u001b[0m\n\u001b[1;32m-> 1350\u001b[1;33m       \u001b[1;32mreturn\u001b[0m \u001b[0mfn\u001b[0m\u001b[1;33m(\u001b[0m\u001b[1;33m*\u001b[0m\u001b[0margs\u001b[0m\u001b[1;33m)\u001b[0m\u001b[1;33m\u001b[0m\u001b[0m\n\u001b[0m\u001b[0;32m   1351\u001b[0m     \u001b[1;32mexcept\u001b[0m \u001b[0merrors\u001b[0m\u001b[1;33m.\u001b[0m\u001b[0mOpError\u001b[0m \u001b[1;32mas\u001b[0m \u001b[0me\u001b[0m\u001b[1;33m:\u001b[0m\u001b[1;33m\u001b[0m\u001b[0m\n",
      "\u001b[1;32m~\\Anaconda2\\envs\\py3k6\\lib\\site-packages\\tensorflow\\python\\client\\session.py\u001b[0m in \u001b[0;36m_run_fn\u001b[1;34m(session, feed_dict, fetch_list, target_list, options, run_metadata)\u001b[0m\n\u001b[0;32m   1328\u001b[0m                                    \u001b[0mfeed_dict\u001b[0m\u001b[1;33m,\u001b[0m \u001b[0mfetch_list\u001b[0m\u001b[1;33m,\u001b[0m \u001b[0mtarget_list\u001b[0m\u001b[1;33m,\u001b[0m\u001b[1;33m\u001b[0m\u001b[0m\n\u001b[1;32m-> 1329\u001b[1;33m                                    status, run_metadata)\n\u001b[0m\u001b[0;32m   1330\u001b[0m \u001b[1;33m\u001b[0m\u001b[0m\n",
      "\u001b[1;32m~\\Anaconda2\\envs\\py3k6\\lib\\site-packages\\tensorflow\\python\\framework\\errors_impl.py\u001b[0m in \u001b[0;36m__exit__\u001b[1;34m(self, type_arg, value_arg, traceback_arg)\u001b[0m\n\u001b[0;32m    472\u001b[0m             \u001b[0mcompat\u001b[0m\u001b[1;33m.\u001b[0m\u001b[0mas_text\u001b[0m\u001b[1;33m(\u001b[0m\u001b[0mc_api\u001b[0m\u001b[1;33m.\u001b[0m\u001b[0mTF_Message\u001b[0m\u001b[1;33m(\u001b[0m\u001b[0mself\u001b[0m\u001b[1;33m.\u001b[0m\u001b[0mstatus\u001b[0m\u001b[1;33m.\u001b[0m\u001b[0mstatus\u001b[0m\u001b[1;33m)\u001b[0m\u001b[1;33m)\u001b[0m\u001b[1;33m,\u001b[0m\u001b[1;33m\u001b[0m\u001b[0m\n\u001b[1;32m--> 473\u001b[1;33m             c_api.TF_GetCode(self.status.status))\n\u001b[0m\u001b[0;32m    474\u001b[0m     \u001b[1;31m# Delete the underlying status object from memory otherwise it stays alive\u001b[0m\u001b[1;33m\u001b[0m\u001b[1;33m\u001b[0m\u001b[0m\n",
      "\u001b[1;31mResourceExhaustedError\u001b[0m: OOM when allocating tensor with shape[3,3,512,512] and type float on /job:localhost/replica:0/task:0/device:GPU:0 by allocator GPU_0_bfc\n\t [[Node: block4_conv2_19/random_uniform/RandomUniform = RandomUniform[T=DT_INT32, dtype=DT_FLOAT, seed=87654321, seed2=3848874, _device=\"/job:localhost/replica:0/task:0/device:GPU:0\"](block4_conv2_19/random_uniform/shape)]]\nHint: If you want to see a list of allocated tensors when OOM happens, add report_tensor_allocations_upon_oom to RunOptions for current allocation info.\n",
      "\nDuring handling of the above exception, another exception occurred:\n",
      "\u001b[1;31mResourceExhaustedError\u001b[0m                    Traceback (most recent call last)",
      "\u001b[1;32m<ipython-input-30-00d4ff1407f7>\u001b[0m in \u001b[0;36m<module>\u001b[1;34m()\u001b[0m\n\u001b[0;32m      9\u001b[0m \u001b[0msess\u001b[0m \u001b[1;33m=\u001b[0m \u001b[0mtf\u001b[0m\u001b[1;33m.\u001b[0m\u001b[0mInteractiveSession\u001b[0m\u001b[1;33m(\u001b[0m\u001b[1;33m)\u001b[0m\u001b[1;33m\u001b[0m\u001b[0m\n\u001b[0;32m     10\u001b[0m \u001b[1;33m\u001b[0m\u001b[0m\n\u001b[1;32m---> 11\u001b[1;33m \u001b[0mcModel\u001b[0m \u001b[1;33m=\u001b[0m \u001b[0mvgg19\u001b[0m\u001b[1;33m.\u001b[0m\u001b[0mVGG19\u001b[0m\u001b[1;33m(\u001b[0m\u001b[0minclude_top\u001b[0m\u001b[1;33m=\u001b[0m\u001b[1;32mFalse\u001b[0m\u001b[1;33m,\u001b[0m \u001b[0mweights\u001b[0m\u001b[1;33m=\u001b[0m\u001b[1;34m'imagenet'\u001b[0m\u001b[1;33m,\u001b[0m \u001b[0minput_tensor\u001b[0m\u001b[1;33m=\u001b[0m\u001b[0mcontent_image\u001b[0m\u001b[1;33m)\u001b[0m\u001b[1;33m\u001b[0m\u001b[0m\n\u001b[0m\u001b[0;32m     12\u001b[0m \u001b[0msModel\u001b[0m \u001b[1;33m=\u001b[0m \u001b[0mvgg19\u001b[0m\u001b[1;33m.\u001b[0m\u001b[0mVGG19\u001b[0m\u001b[1;33m(\u001b[0m\u001b[0minclude_top\u001b[0m\u001b[1;33m=\u001b[0m\u001b[1;32mFalse\u001b[0m\u001b[1;33m,\u001b[0m \u001b[0mweights\u001b[0m\u001b[1;33m=\u001b[0m\u001b[1;34m'imagenet'\u001b[0m\u001b[1;33m,\u001b[0m \u001b[0minput_tensor\u001b[0m\u001b[1;33m=\u001b[0m\u001b[0mstyle_image\u001b[0m\u001b[1;33m)\u001b[0m\u001b[1;33m\u001b[0m\u001b[0m\n\u001b[0;32m     13\u001b[0m \u001b[0mgModel\u001b[0m \u001b[1;33m=\u001b[0m \u001b[0mvgg19\u001b[0m\u001b[1;33m.\u001b[0m\u001b[0mVGG19\u001b[0m\u001b[1;33m(\u001b[0m\u001b[0minclude_top\u001b[0m\u001b[1;33m=\u001b[0m\u001b[1;32mFalse\u001b[0m\u001b[1;33m,\u001b[0m \u001b[0mweights\u001b[0m\u001b[1;33m=\u001b[0m\u001b[1;34m'imagenet'\u001b[0m\u001b[1;33m,\u001b[0m \u001b[0minput_tensor\u001b[0m\u001b[1;33m=\u001b[0m\u001b[0mgenerated_image_placeholder\u001b[0m\u001b[1;33m)\u001b[0m\u001b[1;33m\u001b[0m\u001b[0m\n",
      "\u001b[1;32m~\\Anaconda2\\envs\\py3k6\\lib\\site-packages\\keras_applications\\vgg19.py\u001b[0m in \u001b[0;36mVGG19\u001b[1;34m(include_top, weights, input_tensor, input_shape, pooling, classes, **kwargs)\u001b[0m\n\u001b[0;32m    220\u001b[0m                 \u001b[0mcache_subdir\u001b[0m\u001b[1;33m=\u001b[0m\u001b[1;34m'models'\u001b[0m\u001b[1;33m,\u001b[0m\u001b[1;33m\u001b[0m\u001b[0m\n\u001b[0;32m    221\u001b[0m                 file_hash='253f8cb515780f3b799900260a226db6')\n\u001b[1;32m--> 222\u001b[1;33m         \u001b[0mmodel\u001b[0m\u001b[1;33m.\u001b[0m\u001b[0mload_weights\u001b[0m\u001b[1;33m(\u001b[0m\u001b[0mweights_path\u001b[0m\u001b[1;33m)\u001b[0m\u001b[1;33m\u001b[0m\u001b[0m\n\u001b[0m\u001b[0;32m    223\u001b[0m         \u001b[1;32mif\u001b[0m \u001b[0mbackend\u001b[0m\u001b[1;33m.\u001b[0m\u001b[0mbackend\u001b[0m\u001b[1;33m(\u001b[0m\u001b[1;33m)\u001b[0m \u001b[1;33m==\u001b[0m \u001b[1;34m'theano'\u001b[0m\u001b[1;33m:\u001b[0m\u001b[1;33m\u001b[0m\u001b[0m\n\u001b[0;32m    224\u001b[0m             \u001b[0mkeras_utils\u001b[0m\u001b[1;33m.\u001b[0m\u001b[0mconvert_all_kernels_in_model\u001b[0m\u001b[1;33m(\u001b[0m\u001b[0mmodel\u001b[0m\u001b[1;33m)\u001b[0m\u001b[1;33m\u001b[0m\u001b[0m\n",
      "\u001b[1;32m~\\Anaconda2\\envs\\py3k6\\lib\\site-packages\\keras\\engine\\network.py\u001b[0m in \u001b[0;36mload_weights\u001b[1;34m(self, filepath, by_name, skip_mismatch, reshape)\u001b[0m\n\u001b[0;32m   1159\u001b[0m             \u001b[1;32melse\u001b[0m\u001b[1;33m:\u001b[0m\u001b[1;33m\u001b[0m\u001b[0m\n\u001b[0;32m   1160\u001b[0m                 saving.load_weights_from_hdf5_group(\n\u001b[1;32m-> 1161\u001b[1;33m                     f, self.layers, reshape=reshape)\n\u001b[0m\u001b[0;32m   1162\u001b[0m \u001b[1;33m\u001b[0m\u001b[0m\n\u001b[0;32m   1163\u001b[0m     \u001b[1;32mdef\u001b[0m \u001b[0m_updated_config\u001b[0m\u001b[1;33m(\u001b[0m\u001b[0mself\u001b[0m\u001b[1;33m)\u001b[0m\u001b[1;33m:\u001b[0m\u001b[1;33m\u001b[0m\u001b[0m\n",
      "\u001b[1;32m~\\Anaconda2\\envs\\py3k6\\lib\\site-packages\\keras\\engine\\saving.py\u001b[0m in \u001b[0;36mload_weights_from_hdf5_group\u001b[1;34m(f, layers, reshape)\u001b[0m\n\u001b[0;32m    926\u001b[0m                              ' elements.')\n\u001b[0;32m    927\u001b[0m         \u001b[0mweight_value_tuples\u001b[0m \u001b[1;33m+=\u001b[0m \u001b[0mzip\u001b[0m\u001b[1;33m(\u001b[0m\u001b[0msymbolic_weights\u001b[0m\u001b[1;33m,\u001b[0m \u001b[0mweight_values\u001b[0m\u001b[1;33m)\u001b[0m\u001b[1;33m\u001b[0m\u001b[0m\n\u001b[1;32m--> 928\u001b[1;33m     \u001b[0mK\u001b[0m\u001b[1;33m.\u001b[0m\u001b[0mbatch_set_value\u001b[0m\u001b[1;33m(\u001b[0m\u001b[0mweight_value_tuples\u001b[0m\u001b[1;33m)\u001b[0m\u001b[1;33m\u001b[0m\u001b[0m\n\u001b[0m\u001b[0;32m    929\u001b[0m \u001b[1;33m\u001b[0m\u001b[0m\n\u001b[0;32m    930\u001b[0m \u001b[1;33m\u001b[0m\u001b[0m\n",
      "\u001b[1;32m~\\Anaconda2\\envs\\py3k6\\lib\\site-packages\\keras\\backend\\tensorflow_backend.py\u001b[0m in \u001b[0;36mbatch_set_value\u001b[1;34m(tuples)\u001b[0m\n\u001b[0;32m   2438\u001b[0m             \u001b[0massign_ops\u001b[0m\u001b[1;33m.\u001b[0m\u001b[0mappend\u001b[0m\u001b[1;33m(\u001b[0m\u001b[0massign_op\u001b[0m\u001b[1;33m)\u001b[0m\u001b[1;33m\u001b[0m\u001b[0m\n\u001b[0;32m   2439\u001b[0m             \u001b[0mfeed_dict\u001b[0m\u001b[1;33m[\u001b[0m\u001b[0massign_placeholder\u001b[0m\u001b[1;33m]\u001b[0m \u001b[1;33m=\u001b[0m \u001b[0mvalue\u001b[0m\u001b[1;33m\u001b[0m\u001b[0m\n\u001b[1;32m-> 2440\u001b[1;33m         \u001b[0mget_session\u001b[0m\u001b[1;33m(\u001b[0m\u001b[1;33m)\u001b[0m\u001b[1;33m.\u001b[0m\u001b[0mrun\u001b[0m\u001b[1;33m(\u001b[0m\u001b[0massign_ops\u001b[0m\u001b[1;33m,\u001b[0m \u001b[0mfeed_dict\u001b[0m\u001b[1;33m=\u001b[0m\u001b[0mfeed_dict\u001b[0m\u001b[1;33m)\u001b[0m\u001b[1;33m\u001b[0m\u001b[0m\n\u001b[0m\u001b[0;32m   2441\u001b[0m \u001b[1;33m\u001b[0m\u001b[0m\n\u001b[0;32m   2442\u001b[0m \u001b[1;33m\u001b[0m\u001b[0m\n",
      "\u001b[1;32m~\\Anaconda2\\envs\\py3k6\\lib\\site-packages\\keras\\backend\\tensorflow_backend.py\u001b[0m in \u001b[0;36mget_session\u001b[1;34m()\u001b[0m\n\u001b[0;32m    202\u001b[0m                     \u001b[0mv\u001b[0m\u001b[1;33m.\u001b[0m\u001b[0m_keras_initialized\u001b[0m \u001b[1;33m=\u001b[0m \u001b[1;32mTrue\u001b[0m\u001b[1;33m\u001b[0m\u001b[0m\n\u001b[0;32m    203\u001b[0m                 \u001b[1;32mif\u001b[0m \u001b[0muninitialized_vars\u001b[0m\u001b[1;33m:\u001b[0m\u001b[1;33m\u001b[0m\u001b[0m\n\u001b[1;32m--> 204\u001b[1;33m                     \u001b[0msession\u001b[0m\u001b[1;33m.\u001b[0m\u001b[0mrun\u001b[0m\u001b[1;33m(\u001b[0m\u001b[0mtf\u001b[0m\u001b[1;33m.\u001b[0m\u001b[0mvariables_initializer\u001b[0m\u001b[1;33m(\u001b[0m\u001b[0muninitialized_vars\u001b[0m\u001b[1;33m)\u001b[0m\u001b[1;33m)\u001b[0m\u001b[1;33m\u001b[0m\u001b[0m\n\u001b[0m\u001b[0;32m    205\u001b[0m     \u001b[1;31m# hack for list_devices() function.\u001b[0m\u001b[1;33m\u001b[0m\u001b[1;33m\u001b[0m\u001b[0m\n\u001b[0;32m    206\u001b[0m     \u001b[1;31m# list_devices() function is not available under tensorflow r1.3.\u001b[0m\u001b[1;33m\u001b[0m\u001b[1;33m\u001b[0m\u001b[0m\n",
      "\u001b[1;32m~\\Anaconda2\\envs\\py3k6\\lib\\site-packages\\tensorflow\\python\\client\\session.py\u001b[0m in \u001b[0;36mrun\u001b[1;34m(self, fetches, feed_dict, options, run_metadata)\u001b[0m\n\u001b[0;32m    893\u001b[0m     \u001b[1;32mtry\u001b[0m\u001b[1;33m:\u001b[0m\u001b[1;33m\u001b[0m\u001b[0m\n\u001b[0;32m    894\u001b[0m       result = self._run(None, fetches, feed_dict, options_ptr,\n\u001b[1;32m--> 895\u001b[1;33m                          run_metadata_ptr)\n\u001b[0m\u001b[0;32m    896\u001b[0m       \u001b[1;32mif\u001b[0m \u001b[0mrun_metadata\u001b[0m\u001b[1;33m:\u001b[0m\u001b[1;33m\u001b[0m\u001b[0m\n\u001b[0;32m    897\u001b[0m         \u001b[0mproto_data\u001b[0m \u001b[1;33m=\u001b[0m \u001b[0mtf_session\u001b[0m\u001b[1;33m.\u001b[0m\u001b[0mTF_GetBuffer\u001b[0m\u001b[1;33m(\u001b[0m\u001b[0mrun_metadata_ptr\u001b[0m\u001b[1;33m)\u001b[0m\u001b[1;33m\u001b[0m\u001b[0m\n",
      "\u001b[1;32m~\\Anaconda2\\envs\\py3k6\\lib\\site-packages\\tensorflow\\python\\client\\session.py\u001b[0m in \u001b[0;36m_run\u001b[1;34m(self, handle, fetches, feed_dict, options, run_metadata)\u001b[0m\n\u001b[0;32m   1126\u001b[0m     \u001b[1;32mif\u001b[0m \u001b[0mfinal_fetches\u001b[0m \u001b[1;32mor\u001b[0m \u001b[0mfinal_targets\u001b[0m \u001b[1;32mor\u001b[0m \u001b[1;33m(\u001b[0m\u001b[0mhandle\u001b[0m \u001b[1;32mand\u001b[0m \u001b[0mfeed_dict_tensor\u001b[0m\u001b[1;33m)\u001b[0m\u001b[1;33m:\u001b[0m\u001b[1;33m\u001b[0m\u001b[0m\n\u001b[0;32m   1127\u001b[0m       results = self._do_run(handle, final_targets, final_fetches,\n\u001b[1;32m-> 1128\u001b[1;33m                              feed_dict_tensor, options, run_metadata)\n\u001b[0m\u001b[0;32m   1129\u001b[0m     \u001b[1;32melse\u001b[0m\u001b[1;33m:\u001b[0m\u001b[1;33m\u001b[0m\u001b[0m\n\u001b[0;32m   1130\u001b[0m       \u001b[0mresults\u001b[0m \u001b[1;33m=\u001b[0m \u001b[1;33m[\u001b[0m\u001b[1;33m]\u001b[0m\u001b[1;33m\u001b[0m\u001b[0m\n",
      "\u001b[1;32m~\\Anaconda2\\envs\\py3k6\\lib\\site-packages\\tensorflow\\python\\client\\session.py\u001b[0m in \u001b[0;36m_do_run\u001b[1;34m(self, handle, target_list, fetch_list, feed_dict, options, run_metadata)\u001b[0m\n\u001b[0;32m   1342\u001b[0m     \u001b[1;32mif\u001b[0m \u001b[0mhandle\u001b[0m \u001b[1;32mis\u001b[0m \u001b[1;32mNone\u001b[0m\u001b[1;33m:\u001b[0m\u001b[1;33m\u001b[0m\u001b[0m\n\u001b[0;32m   1343\u001b[0m       return self._do_call(_run_fn, self._session, feeds, fetches, targets,\n\u001b[1;32m-> 1344\u001b[1;33m                            options, run_metadata)\n\u001b[0m\u001b[0;32m   1345\u001b[0m     \u001b[1;32melse\u001b[0m\u001b[1;33m:\u001b[0m\u001b[1;33m\u001b[0m\u001b[0m\n\u001b[0;32m   1346\u001b[0m       \u001b[1;32mreturn\u001b[0m \u001b[0mself\u001b[0m\u001b[1;33m.\u001b[0m\u001b[0m_do_call\u001b[0m\u001b[1;33m(\u001b[0m\u001b[0m_prun_fn\u001b[0m\u001b[1;33m,\u001b[0m \u001b[0mself\u001b[0m\u001b[1;33m.\u001b[0m\u001b[0m_session\u001b[0m\u001b[1;33m,\u001b[0m \u001b[0mhandle\u001b[0m\u001b[1;33m,\u001b[0m \u001b[0mfeeds\u001b[0m\u001b[1;33m,\u001b[0m \u001b[0mfetches\u001b[0m\u001b[1;33m)\u001b[0m\u001b[1;33m\u001b[0m\u001b[0m\n",
      "\u001b[1;32m~\\Anaconda2\\envs\\py3k6\\lib\\site-packages\\tensorflow\\python\\client\\session.py\u001b[0m in \u001b[0;36m_do_call\u001b[1;34m(self, fn, *args)\u001b[0m\n\u001b[0;32m   1361\u001b[0m         \u001b[1;32mexcept\u001b[0m \u001b[0mKeyError\u001b[0m\u001b[1;33m:\u001b[0m\u001b[1;33m\u001b[0m\u001b[0m\n\u001b[0;32m   1362\u001b[0m           \u001b[1;32mpass\u001b[0m\u001b[1;33m\u001b[0m\u001b[0m\n\u001b[1;32m-> 1363\u001b[1;33m       \u001b[1;32mraise\u001b[0m \u001b[0mtype\u001b[0m\u001b[1;33m(\u001b[0m\u001b[0me\u001b[0m\u001b[1;33m)\u001b[0m\u001b[1;33m(\u001b[0m\u001b[0mnode_def\u001b[0m\u001b[1;33m,\u001b[0m \u001b[0mop\u001b[0m\u001b[1;33m,\u001b[0m \u001b[0mmessage\u001b[0m\u001b[1;33m)\u001b[0m\u001b[1;33m\u001b[0m\u001b[0m\n\u001b[0m\u001b[0;32m   1364\u001b[0m \u001b[1;33m\u001b[0m\u001b[0m\n\u001b[0;32m   1365\u001b[0m   \u001b[1;32mdef\u001b[0m \u001b[0m_extend_graph\u001b[0m\u001b[1;33m(\u001b[0m\u001b[0mself\u001b[0m\u001b[1;33m)\u001b[0m\u001b[1;33m:\u001b[0m\u001b[1;33m\u001b[0m\u001b[0m\n",
      "\u001b[1;31mResourceExhaustedError\u001b[0m: OOM when allocating tensor with shape[3,3,512,512] and type float on /job:localhost/replica:0/task:0/device:GPU:0 by allocator GPU_0_bfc\n\t [[Node: block4_conv2_19/random_uniform/RandomUniform = RandomUniform[T=DT_INT32, dtype=DT_FLOAT, seed=87654321, seed2=3848874, _device=\"/job:localhost/replica:0/task:0/device:GPU:0\"](block4_conv2_19/random_uniform/shape)]]\nHint: If you want to see a list of allocated tensors when OOM happens, add report_tensor_allocations_upon_oom to RunOptions for current allocation info.\n\n\nCaused by op 'block4_conv2_19/random_uniform/RandomUniform', defined at:\n  File \"C:\\Users\\Djamari\\Anaconda2\\envs\\py3k6\\lib\\runpy.py\", line 193, in _run_module_as_main\n    \"__main__\", mod_spec)\n  File \"C:\\Users\\Djamari\\Anaconda2\\envs\\py3k6\\lib\\runpy.py\", line 85, in _run_code\n    exec(code, run_globals)\n  File \"C:\\Users\\Djamari\\Anaconda2\\envs\\py3k6\\lib\\site-packages\\ipykernel_launcher.py\", line 16, in <module>\n    app.launch_new_instance()\n  File \"C:\\Users\\Djamari\\Anaconda2\\envs\\py3k6\\lib\\site-packages\\traitlets\\config\\application.py\", line 658, in launch_instance\n    app.start()\n  File \"C:\\Users\\Djamari\\Anaconda2\\envs\\py3k6\\lib\\site-packages\\ipykernel\\kernelapp.py\", line 486, in start\n    self.io_loop.start()\n  File \"C:\\Users\\Djamari\\Anaconda2\\envs\\py3k6\\lib\\site-packages\\tornado\\platform\\asyncio.py\", line 127, in start\n    self.asyncio_loop.run_forever()\n  File \"C:\\Users\\Djamari\\Anaconda2\\envs\\py3k6\\lib\\asyncio\\base_events.py\", line 422, in run_forever\n    self._run_once()\n  File \"C:\\Users\\Djamari\\Anaconda2\\envs\\py3k6\\lib\\asyncio\\base_events.py\", line 1432, in _run_once\n    handle._run()\n  File \"C:\\Users\\Djamari\\Anaconda2\\envs\\py3k6\\lib\\asyncio\\events.py\", line 145, in _run\n    self._callback(*self._args)\n  File \"C:\\Users\\Djamari\\Anaconda2\\envs\\py3k6\\lib\\site-packages\\tornado\\platform\\asyncio.py\", line 117, in _handle_events\n    handler_func(fileobj, events)\n  File \"C:\\Users\\Djamari\\Anaconda2\\envs\\py3k6\\lib\\site-packages\\tornado\\stack_context.py\", line 276, in null_wrapper\n    return fn(*args, **kwargs)\n  File \"C:\\Users\\Djamari\\Anaconda2\\envs\\py3k6\\lib\\site-packages\\zmq\\eventloop\\zmqstream.py\", line 450, in _handle_events\n    self._handle_recv()\n  File \"C:\\Users\\Djamari\\Anaconda2\\envs\\py3k6\\lib\\site-packages\\zmq\\eventloop\\zmqstream.py\", line 480, in _handle_recv\n    self._run_callback(callback, msg)\n  File \"C:\\Users\\Djamari\\Anaconda2\\envs\\py3k6\\lib\\site-packages\\zmq\\eventloop\\zmqstream.py\", line 432, in _run_callback\n    callback(*args, **kwargs)\n  File \"C:\\Users\\Djamari\\Anaconda2\\envs\\py3k6\\lib\\site-packages\\tornado\\stack_context.py\", line 276, in null_wrapper\n    return fn(*args, **kwargs)\n  File \"C:\\Users\\Djamari\\Anaconda2\\envs\\py3k6\\lib\\site-packages\\ipykernel\\kernelbase.py\", line 283, in dispatcher\n    return self.dispatch_shell(stream, msg)\n  File \"C:\\Users\\Djamari\\Anaconda2\\envs\\py3k6\\lib\\site-packages\\ipykernel\\kernelbase.py\", line 233, in dispatch_shell\n    handler(stream, idents, msg)\n  File \"C:\\Users\\Djamari\\Anaconda2\\envs\\py3k6\\lib\\site-packages\\ipykernel\\kernelbase.py\", line 399, in execute_request\n    user_expressions, allow_stdin)\n  File \"C:\\Users\\Djamari\\Anaconda2\\envs\\py3k6\\lib\\site-packages\\ipykernel\\ipkernel.py\", line 208, in do_execute\n    res = shell.run_cell(code, store_history=store_history, silent=silent)\n  File \"C:\\Users\\Djamari\\Anaconda2\\envs\\py3k6\\lib\\site-packages\\ipykernel\\zmqshell.py\", line 537, in run_cell\n    return super(ZMQInteractiveShell, self).run_cell(*args, **kwargs)\n  File \"C:\\Users\\Djamari\\Anaconda2\\envs\\py3k6\\lib\\site-packages\\IPython\\core\\interactiveshell.py\", line 2662, in run_cell\n    raw_cell, store_history, silent, shell_futures)\n  File \"C:\\Users\\Djamari\\Anaconda2\\envs\\py3k6\\lib\\site-packages\\IPython\\core\\interactiveshell.py\", line 2785, in _run_cell\n    interactivity=interactivity, compiler=compiler, result=result)\n  File \"C:\\Users\\Djamari\\Anaconda2\\envs\\py3k6\\lib\\site-packages\\IPython\\core\\interactiveshell.py\", line 2903, in run_ast_nodes\n    if self.run_code(code, result):\n  File \"C:\\Users\\Djamari\\Anaconda2\\envs\\py3k6\\lib\\site-packages\\IPython\\core\\interactiveshell.py\", line 2963, in run_code\n    exec(code_obj, self.user_global_ns, self.user_ns)\n  File \"<ipython-input-30-00d4ff1407f7>\", line 11, in <module>\n    cModel = vgg19.VGG19(include_top=False, weights='imagenet', input_tensor=content_image)\n  File \"C:\\Users\\Djamari\\Anaconda2\\envs\\py3k6\\lib\\site-packages\\keras_applications\\vgg19.py\", line 157, in VGG19\n    name='block4_conv2')(x)\n  File \"C:\\Users\\Djamari\\Anaconda2\\envs\\py3k6\\lib\\site-packages\\keras\\engine\\base_layer.py\", line 431, in __call__\n    self.build(unpack_singleton(input_shapes))\n  File \"C:\\Users\\Djamari\\Anaconda2\\envs\\py3k6\\lib\\site-packages\\keras\\layers\\convolutional.py\", line 138, in build\n    constraint=self.kernel_constraint)\n  File \"C:\\Users\\Djamari\\Anaconda2\\envs\\py3k6\\lib\\site-packages\\keras\\legacy\\interfaces.py\", line 91, in wrapper\n    return func(*args, **kwargs)\n  File \"C:\\Users\\Djamari\\Anaconda2\\envs\\py3k6\\lib\\site-packages\\keras\\engine\\base_layer.py\", line 249, in add_weight\n    weight = K.variable(initializer(shape),\n  File \"C:\\Users\\Djamari\\Anaconda2\\envs\\py3k6\\lib\\site-packages\\keras\\initializers.py\", line 218, in __call__\n    dtype=dtype, seed=self.seed)\n  File \"C:\\Users\\Djamari\\Anaconda2\\envs\\py3k6\\lib\\site-packages\\keras\\backend\\tensorflow_backend.py\", line 4049, in random_uniform\n    dtype=dtype, seed=seed)\n  File \"C:\\Users\\Djamari\\Anaconda2\\envs\\py3k6\\lib\\site-packages\\tensorflow\\python\\ops\\random_ops.py\", line 240, in random_uniform\n    shape, dtype, seed=seed1, seed2=seed2)\n  File \"C:\\Users\\Djamari\\Anaconda2\\envs\\py3k6\\lib\\site-packages\\tensorflow\\python\\ops\\gen_random_ops.py\", line 487, in _random_uniform\n    name=name)\n  File \"C:\\Users\\Djamari\\Anaconda2\\envs\\py3k6\\lib\\site-packages\\tensorflow\\python\\framework\\op_def_library.py\", line 787, in _apply_op_helper\n    op_def=op_def)\n  File \"C:\\Users\\Djamari\\Anaconda2\\envs\\py3k6\\lib\\site-packages\\tensorflow\\python\\framework\\ops.py\", line 3160, in create_op\n    op_def=op_def)\n  File \"C:\\Users\\Djamari\\Anaconda2\\envs\\py3k6\\lib\\site-packages\\tensorflow\\python\\framework\\ops.py\", line 1625, in __init__\n    self._traceback = self._graph._extract_stack()  # pylint: disable=protected-access\n\nResourceExhaustedError (see above for traceback): OOM when allocating tensor with shape[3,3,512,512] and type float on /job:localhost/replica:0/task:0/device:GPU:0 by allocator GPU_0_bfc\n\t [[Node: block4_conv2_19/random_uniform/RandomUniform = RandomUniform[T=DT_INT32, dtype=DT_FLOAT, seed=87654321, seed2=3848874, _device=\"/job:localhost/replica:0/task:0/device:GPU:0\"](block4_conv2_19/random_uniform/shape)]]\nHint: If you want to see a list of allocated tensors when OOM happens, add report_tensor_allocations_upon_oom to RunOptions for current allocation info.\n\n"
     ]
    }
   ],
   "source": [
    "'''clogits = tn.VGG19(content_image)\n",
    "cModel = tf.identity(clogits, name='clogits')\n",
    "slogits = tn.VGG19(style_image)\n",
    "sModel = tf.identity(slogits, name='slogits')\n",
    "glogits = tn.VGG19(content_image)\n",
    "gModel = tf.identity(generated_image_placeholder, name='glogits')'''\n",
    "\n",
    "#tf.reset_default_graph()\n",
    "sess = tf.InteractiveSession()\n",
    "\n",
    "cModel = vgg19.VGG19(include_top=False, weights='imagenet', input_tensor=content_image)\n",
    "sModel = vgg19.VGG19(include_top=False, weights='imagenet', input_tensor=style_image)\n",
    "gModel = vgg19.VGG19(include_top=False, weights='imagenet', input_tensor=generated_image_placeholder)\n",
    "\n",
    "vars_train = gModel.trainable_weights\n",
    "\n",
    "'''cModel.trainable = False\n",
    "sModel.trainable = False\n",
    "gModel.trainable = False'''\n",
    "\n",
    "cLayerName = 'block4_conv2'\n",
    "sLayerNames = [\n",
    "                'block1_conv1',\n",
    "                'block2_conv1',\n",
    "                'block3_conv1',\n",
    "                'block4_conv1',\n",
    "                ]\n",
    "\n",
    "iterations = 5\n",
    "\n",
    "\n",
    "'''a_S = sModel.get_layer(layer).output    \n",
    "a_G = gModel.get_layer(cLayerName).output \n",
    "a_C = cModel.get_layer(cLayerName).output\n",
    "\n",
    "J_content = compute_content_cost(a_C, a_G)\n",
    "\n",
    "J_style = compute_style_cost(sLayerNames)'''\n",
    "\n",
    "'''#gradients = K.gradients(compute_loss(), gModel.input)\n",
    "\n",
    "J_total = compute_loss()\n",
    "#sess.run(cModel.predict(content_image))\n",
    "#sess.run(sModel.predict(style_image))\n",
    "optimizer = tf.train.AdamOptimizer(learning_rate = 1e-4).minimize(J_total)\n",
    "#generated_image = generated_image.flatten()\n",
    "'''\n",
    "'''def model_nn(sess, input_image, num_iterations = iterations):\n",
    "    \n",
    "    sess.run(tf.global_variables_initializer())\n",
    "    sess.run(tf.assign(generated_image_placeholder, input_image))\n",
    "    \n",
    "    for i in range(num_iterations):\n",
    "        print('Iteration number: ', i)\n",
    "        # Run the session on the optimizer to minimize the total cost\n",
    "        sess.run(optimizer)\n",
    "        # Compute the generated image by running the session on the current model['input']\n",
    "        generated_image1 = sess.run(gModel)\n",
    "        \n",
    "    return generated_image1'''\n",
    "\n",
    "# TODO: change the fmin_l_bfgs_b function for less copy-pasta\n",
    "xopt, f_val, info= fmin_l_bfgs_b(compute_loss, generated_image, fprime=get_gradient, maxiter=iterations)\n",
    "\n",
    "'''\n",
    "P = get_feature_reps(x=cImArr, layer_names=[cLayerName], model=cModel)[0]\n",
    "As = get_feature_reps(x=sImArr, layer_names=sLayerNames, model=sModel)\n",
    "ws = np.ones(len(sLayerNames))/float(len(sLayerNames))\n",
    "\n",
    "iterations = 600\n",
    "x_val = gIm0.flatten()\n",
    "xopt, f_val, info= fmin_l_bfgs_b(calculate_loss, x_val, fprime=get_grad,\n",
    "maxiter=iterations, disp=True)\n",
    "'''"
   ]
  },
  {
   "cell_type": "code",
   "execution_count": null,
   "metadata": {},
   "outputs": [],
   "source": [
    "xOut = postprocess_array(xopt)"
   ]
  },
  {
   "cell_type": "code",
   "execution_count": null,
   "metadata": {
    "colab": {},
    "colab_type": "code",
    "id": "lAOZvT2vVmco"
   },
   "outputs": [],
   "source": [
    "def postprocess_array(x):\n",
    "    # Zero-center by mean pixel\n",
    "    if x.shape != (targetWidth, targetHeight, 3):\n",
    "        x = x.reshape((targetWidth, targetHeight, 3))\n",
    "    x[..., 0] += 103.939\n",
    "    x[..., 1] += 116.779\n",
    "    x[..., 2] += 123.68\n",
    "    # 'BGR'->'RGB'\n",
    "    x = x[..., ::-1]\n",
    "    x = np.clip(x, 0, 255)\n",
    "    x = x.astype('uint8')\n",
    "    return x"
   ]
  },
  {
   "cell_type": "markdown",
   "metadata": {
    "colab_type": "text",
    "id": "iRD_YG2XU8BJ"
   },
   "source": [
    "## 5 - Test with your own image (10 bonus points)\n",
    "\n",
    "Finally, you can also rerun the algorithm on your own images! \n",
    "\n",
    "You can also tune your hyperparameters: \n",
    "- Which layers are responsible for representing the style? STYLE_LAYERS\n",
    "- How many iterations do you want to run the algorithm? num_iterations\n",
    "- What is the relative weighting between content and style? alpha/beta"
   ]
  },
  {
   "cell_type": "markdown",
   "metadata": {
    "colab_type": "text",
    "id": "Qmm0eeVWUtej"
   },
   "source": [
    "## 7 - Conclusion\n",
    "\n",
    "Great job on completing this assignment! You are now able to use Neural Style Transfer to generate artistic images. This is also your first time building a model in which the optimization algorithm updates the pixel values rather than the neural network's parameters. Deep learning has many different types of models and this is only one of them! \n",
    "\n",
    "<font color='blue'>\n",
    "What you should remember:\n",
    "- Neural Style Transfer is an algorithm that given a content image C and a style image S can generate an artistic image\n",
    "- It uses representations (hidden layer activations) based on a pretrained ConvNet. \n",
    "- The content cost function is computed using one hidden layer's activations.\n",
    "- The style cost function for one layer is computed using the Gram matrix of that layer's activations. The overall style cost function is obtained using several hidden layers.\n",
    "- Optimizing the total cost function results in synthesizing new images."
   ]
  },
  {
   "cell_type": "markdown",
   "metadata": {
    "colab_type": "text",
    "id": "s7FenW_ZUzzM"
   },
   "source": [
    "### References:\n",
    "\n",
    "The Neural Style Transfer algorithm was due to Gatys et al. (2015). Harish Narayanan and Github user \"log0\" also have highly readable write-ups from which we drew inspiration. The pre-trained network used in this implementation is a VGG network, which is due to Simonyan and Zisserman (2015).\n",
    "\n",
    "- Leon A. Gatys, Alexander S. Ecker, Matthias Bethge, (2015). A Neural Algorithm of Artistic Style (https://arxiv.org/abs/1508.06576) \n",
    "- Harish Narayanan, Convolutional neural networks for artistic style transfer. https://harishnarayanan.org/writing/artistic-style-transfer/\n",
    "- Log0, TensorFlow Implementation of \"A Neural Algorithm of Artistic Style\". http://www.chioka.in/tensorflow-implementation-neural-algorithm-of-artistic-style\n",
    "- Karen Simonyan and Andrew Zisserman (2015). Very deep convolutional networks for large-scale image recognition (https://arxiv.org/pdf/1409.1556.pdf)"
   ]
  }
 ],
 "metadata": {
  "anaconda-cloud": {},
  "colab": {
   "name": "weeks_8_and_9.ipynb",
   "provenance": [],
   "version": "0.3.2"
  },
  "kernelspec": {
   "display_name": "Python 3",
   "language": "python",
   "name": "python3"
  },
  "language_info": {
   "codemirror_mode": {
    "name": "ipython",
    "version": 3
   },
   "file_extension": ".py",
   "mimetype": "text/x-python",
   "name": "python",
   "nbconvert_exporter": "python",
   "pygments_lexer": "ipython3",
   "version": "3.6.5"
  }
 },
 "nbformat": 4,
 "nbformat_minor": 1
}
