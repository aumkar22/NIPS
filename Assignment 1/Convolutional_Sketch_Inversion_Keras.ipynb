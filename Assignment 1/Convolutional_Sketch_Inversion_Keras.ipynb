{
 "cells": [
  {
   "cell_type": "code",
   "execution_count": 15,
   "metadata": {
    "collapsed": false
   },
   "outputs": [],
   "source": [
    "import os\n",
    "import numpy as np\n",
    "import cv2\n",
    "import keras\n",
    "from keras.models import Sequential\n",
    "from keras.layers import *\n",
    "from keras import backend as k\n",
    "from keras import optimizers\n",
    "from keras.models import Model\n",
    "from keras.callbacks import TensorBoard, ModelCheckpoint, ReduceLROnPlateau\n",
    "from keras.models import load_model\n",
    "from keras.engine.topology import Layer\n",
    "from PIL import Image\n",
    "from glob import glob\n",
    "from time import time"
   ]
  },
  {
   "cell_type": "code",
   "execution_count": 2,
   "metadata": {
    "collapsed": true
   },
   "outputs": [],
   "source": [
    "BATCH_SIZE = 32\n",
    "batch_test = 4\n",
    "root_dir = os.path.normpath(os.path.join(os.path.dirname(os.path.realpath('__file__'))))\n",
    "data_directory = os.path.join(root_dir, 'lfw-deepfunneled') # Make a directory to store the data and enter it here.\n",
    "                    # We will be using a smaller dataset (LFW) than the one used in the paper (CelebA) for computational resource considerations.\n",
    "                    # Download it from http://vis-www.cs.umass.edu/lfw/lfw-deepfunneled.tgz.\n",
    "resize_dir = os.path.join(root_dir, 'Resized_images')\n",
    "#device = -1\n",
    "#lambda_ = {'feature': 1., 'pixel': 1., 'total_variation': 1e-5}\n",
    "model_directory = os.path.join(root_dir, 'NIPS_model_ass1') # Make a directory to store the models and enter it here. Move Vgg4Layers.npz to the model directory.\n",
    "outsize = (96, 96)"
   ]
  },
  {
   "cell_type": "code",
   "execution_count": null,
   "metadata": {
    "collapsed": true
   },
   "outputs": [],
   "source": [
    "# Resizing and saving each portrait in the data directory\n",
    "\n",
    "'''iterator = 0\n",
    "\n",
    "for root, dirs, files in os.walk(data_directory):\n",
    "    for fname in files:\n",
    "\n",
    "        filepath = os.path.join(root, fname)\n",
    "        \n",
    "        img = cv2.imread(filepath)\n",
    "        \n",
    "        img1 = cv2.resize(img, (96, 96))\n",
    "        \n",
    "        cv2.imwrite(os.path.join(resize_dir, '%r_1.jpg' %iterator), img1)\n",
    "        \n",
    "        iterator += 1'''"
   ]
  },
  {
   "cell_type": "code",
   "execution_count": 3,
   "metadata": {
    "collapsed": true
   },
   "outputs": [],
   "source": [
    "def render(img_rgb):\n",
    "    \"\"\"\n",
    "    Applies pencil sketch effect to an RGB image\n",
    "    :param img_rgb: RGB image to be processed\n",
    "    :returns: Processed RGB image\n",
    "    \"\"\"\n",
    "    img_gray = cv2.cvtColor(img_rgb, cv2.COLOR_RGB2GRAY)\n",
    "    img_blur = cv2.GaussianBlur(img_gray, (21, 21), 0, 0)\n",
    "    img_blend = cv2.divide(img_gray, img_blur, scale=256)\n",
    "    \n",
    "    return img_blend"
   ]
  },
  {
   "cell_type": "code",
   "execution_count": 4,
   "metadata": {
    "collapsed": true
   },
   "outputs": [],
   "source": [
    "def img_load(img):\n",
    "    \n",
    "    t_ = []\n",
    "    x_ = []\n",
    "    for i in img:\n",
    "        t = np.asarray(Image.open(i).convert('RGB').resize((96, 96), Image.LANCZOS), 'f').transpose(2, 0, 1)\n",
    "        x = render(np.asarray(Image.open(i).convert('RGB').resize((96, 96), Image.LANCZOS), 'f'))[None]\n",
    "        \n",
    "        t_.append(t)\n",
    "        x_.append(x)\n",
    "    \n",
    "    return np.asarray(t_), np.asarray(x_)"
   ]
  },
  {
   "cell_type": "code",
   "execution_count": 5,
   "metadata": {
    "collapsed": false
   },
   "outputs": [],
   "source": [
    "data_file = sorted(glob('{}/*.jpg'.format(resize_dir)))\n",
    "training_set = img_load(data_file[:int(.64 * len(data_file))])\n",
    "validation_set = img_load(data_file[int(.64 * len(data_file)) : int(.8 * len(data_file))])\n",
    "test_set = img_load(data_file[int(.8 * len(data_file) ):])\n",
    "\n",
    "batches = int(len(training_set)/BATCH_SIZE)"
   ]
  },
  {
   "cell_type": "code",
   "execution_count": 6,
   "metadata": {
    "collapsed": true
   },
   "outputs": [],
   "source": [
    "def batch_generator():\n",
    "    \n",
    "    while True:\n",
    "\n",
    "        for batch in range(batches):\n",
    "            \n",
    "            data = training_set[1][batch * BATCH_SIZE: (batch + 1) * BATCH_SIZE]\n",
    "            target = training_set[0][batch * BATCH_SIZE: (batch + 1) * BATCH_SIZE]\n",
    "                \n",
    "            yield (data, target)"
   ]
  },
  {
   "cell_type": "code",
   "execution_count": 7,
   "metadata": {
    "collapsed": true
   },
   "outputs": [],
   "source": [
    "def residual_block(y):\n",
    "    shortcut = y\n",
    "    \n",
    "    y = Conv2D(128, 3, strides = 1, padding = 'same', data_format='channels_first')(y)\n",
    "    y = BatchNormalization(axis = 1, scale = None)(y)\n",
    "    y = Activation('relu')(y)\n",
    "    \n",
    "    y = Conv2D(128, 3, strides = 1, padding = 'same', data_format='channels_first')(y)\n",
    "    y = BatchNormalization(axis = 1, scale = None)(y)\n",
    "    y = Activation('relu')(y)\n",
    "\n",
    "    y = Add()([shortcut, y])\n",
    "\n",
    "    return y"
   ]
  },
  {
   "cell_type": "code",
   "execution_count": 11,
   "metadata": {
    "collapsed": false
   },
   "outputs": [],
   "source": [
    "input1 = Input(shape = (1, 96, 96))\n",
    "\n",
    "model = (ZeroPadding2D(4, data_format='channels_first'))(input1)\n",
    "\n",
    "model = (Conv2D(32, 9, strides = 1, data_format='channels_first'))(model)\n",
    "\n",
    "model = (BatchNormalization(axis = 1, scale = None))(model)\n",
    "\n",
    "model = (Activation('relu'))(model)\n",
    "\n",
    "model = (Conv2D(64, 3, strides = 2, padding = 'same', data_format='channels_first'))(model)\n",
    "\n",
    "model = (BatchNormalization(axis = 1, scale = None))(model)\n",
    "\n",
    "model = (Activation('relu'))(model)\n",
    "\n",
    "model = (Conv2D(128, 3, strides = 2, padding = 'same', data_format='channels_first'))(model)\n",
    "\n",
    "model = (BatchNormalization(axis = 1, scale = None))(model)\n",
    "\n",
    "model = (Activation('relu'))(model)\n",
    "\n",
    "res1 = residual_block(model)\n",
    "\n",
    "res2 = residual_block(res1)\n",
    "\n",
    "res3 = residual_block(res2)\n",
    "\n",
    "res4 = residual_block(res3)\n",
    "\n",
    "res5 = residual_block(res4)\n",
    "\n",
    "deconv1 = Conv2DTranspose(64, 3, strides = 2, padding = 'same', data_format='channels_first')(res5)\n",
    "\n",
    "bn1 = BatchNormalization(axis = 1, scale = None)(deconv1)\n",
    "\n",
    "relu1 = Activation('relu')(bn1)\n",
    "\n",
    "deconv2 = Conv2DTranspose(32, 3, strides = 2, padding = 'same', data_format='channels_first')(relu1)\n",
    "\n",
    "bn2 = BatchNormalization(axis = 1, scale = None)(deconv2)\n",
    "\n",
    "relu2 = Activation('relu')(bn2)\n",
    "\n",
    "zero_pad = ZeroPadding2D(4, data_format='channels_first')(relu2)\n",
    "\n",
    "conv_fin = Conv2D(3, 9, strides = 1, data_format='channels_first')(zero_pad)\n",
    "\n",
    "bn3 = BatchNormalization(axis = 1, scale = None)(conv_fin)\n",
    "\n",
    "out = Activation('tanh')(bn3)\n",
    "\n",
    "model_ = Model(inputs=[input1], outputs=out)"
   ]
  },
  {
   "cell_type": "code",
   "execution_count": 12,
   "metadata": {
    "collapsed": true
   },
   "outputs": [],
   "source": [
    "adam_ = optimizers.Adam(lr = 1e-3, beta_1=0.9, beta_2=0.999, epsilon=1e-8)"
   ]
  },
  {
   "cell_type": "code",
   "execution_count": 21,
   "metadata": {
    "collapsed": true
   },
   "outputs": [],
   "source": [
    "def root_mean_squared_error(y_true, y_pred):\n",
    "    return k.sqrt(k.mean(k.square(y_pred - y_true), axis=-1))"
   ]
  },
  {
   "cell_type": "code",
   "execution_count": 23,
   "metadata": {
    "collapsed": false
   },
   "outputs": [],
   "source": [
    "model_.compile(loss = root_mean_squared_error, optimizer = adam_)"
   ]
  },
  {
   "cell_type": "code",
   "execution_count": 13,
   "metadata": {
    "collapsed": false,
    "scrolled": true
   },
   "outputs": [
    {
     "name": "stdout",
     "output_type": "stream",
     "text": [
      "__________________________________________________________________________________________________\n",
      "Layer (type)                    Output Shape         Param #     Connected to                     \n",
      "==================================================================================================\n",
      "input_2 (InputLayer)            (None, 1, 96, 96)    0                                            \n",
      "__________________________________________________________________________________________________\n",
      "zero_padding2d_3 (ZeroPadding2D (None, 1, 104, 104)  0           input_2[0][0]                    \n",
      "__________________________________________________________________________________________________\n",
      "conv2d_15 (Conv2D)              (None, 32, 96, 96)   2624        zero_padding2d_3[0][0]           \n",
      "__________________________________________________________________________________________________\n",
      "batch_normalization_17 (BatchNo (None, 32, 96, 96)   96          conv2d_15[0][0]                  \n",
      "__________________________________________________________________________________________________\n",
      "activation_17 (Activation)      (None, 32, 96, 96)   0           batch_normalization_17[0][0]     \n",
      "__________________________________________________________________________________________________\n",
      "conv2d_16 (Conv2D)              (None, 64, 48, 48)   18496       activation_17[0][0]              \n",
      "__________________________________________________________________________________________________\n",
      "batch_normalization_18 (BatchNo (None, 64, 48, 48)   192         conv2d_16[0][0]                  \n",
      "__________________________________________________________________________________________________\n",
      "activation_18 (Activation)      (None, 64, 48, 48)   0           batch_normalization_18[0][0]     \n",
      "__________________________________________________________________________________________________\n",
      "conv2d_17 (Conv2D)              (None, 128, 24, 24)  73856       activation_18[0][0]              \n",
      "__________________________________________________________________________________________________\n",
      "batch_normalization_19 (BatchNo (None, 128, 24, 24)  384         conv2d_17[0][0]                  \n",
      "__________________________________________________________________________________________________\n",
      "activation_19 (Activation)      (None, 128, 24, 24)  0           batch_normalization_19[0][0]     \n",
      "__________________________________________________________________________________________________\n",
      "conv2d_18 (Conv2D)              (None, 128, 24, 24)  147584      activation_19[0][0]              \n",
      "__________________________________________________________________________________________________\n",
      "batch_normalization_20 (BatchNo (None, 128, 24, 24)  384         conv2d_18[0][0]                  \n",
      "__________________________________________________________________________________________________\n",
      "activation_20 (Activation)      (None, 128, 24, 24)  0           batch_normalization_20[0][0]     \n",
      "__________________________________________________________________________________________________\n",
      "conv2d_19 (Conv2D)              (None, 128, 24, 24)  147584      activation_20[0][0]              \n",
      "__________________________________________________________________________________________________\n",
      "batch_normalization_21 (BatchNo (None, 128, 24, 24)  384         conv2d_19[0][0]                  \n",
      "__________________________________________________________________________________________________\n",
      "activation_21 (Activation)      (None, 128, 24, 24)  0           batch_normalization_21[0][0]     \n",
      "__________________________________________________________________________________________________\n",
      "add_6 (Add)                     (None, 128, 24, 24)  0           activation_19[0][0]              \n",
      "                                                                 activation_21[0][0]              \n",
      "__________________________________________________________________________________________________\n",
      "conv2d_20 (Conv2D)              (None, 128, 24, 24)  147584      add_6[0][0]                      \n",
      "__________________________________________________________________________________________________\n",
      "batch_normalization_22 (BatchNo (None, 128, 24, 24)  384         conv2d_20[0][0]                  \n",
      "__________________________________________________________________________________________________\n",
      "activation_22 (Activation)      (None, 128, 24, 24)  0           batch_normalization_22[0][0]     \n",
      "__________________________________________________________________________________________________\n",
      "conv2d_21 (Conv2D)              (None, 128, 24, 24)  147584      activation_22[0][0]              \n",
      "__________________________________________________________________________________________________\n",
      "batch_normalization_23 (BatchNo (None, 128, 24, 24)  384         conv2d_21[0][0]                  \n",
      "__________________________________________________________________________________________________\n",
      "activation_23 (Activation)      (None, 128, 24, 24)  0           batch_normalization_23[0][0]     \n",
      "__________________________________________________________________________________________________\n",
      "add_7 (Add)                     (None, 128, 24, 24)  0           add_6[0][0]                      \n",
      "                                                                 activation_23[0][0]              \n",
      "__________________________________________________________________________________________________\n",
      "conv2d_22 (Conv2D)              (None, 128, 24, 24)  147584      add_7[0][0]                      \n",
      "__________________________________________________________________________________________________\n",
      "batch_normalization_24 (BatchNo (None, 128, 24, 24)  384         conv2d_22[0][0]                  \n",
      "__________________________________________________________________________________________________\n",
      "activation_24 (Activation)      (None, 128, 24, 24)  0           batch_normalization_24[0][0]     \n",
      "__________________________________________________________________________________________________\n",
      "conv2d_23 (Conv2D)              (None, 128, 24, 24)  147584      activation_24[0][0]              \n",
      "__________________________________________________________________________________________________\n",
      "batch_normalization_25 (BatchNo (None, 128, 24, 24)  384         conv2d_23[0][0]                  \n",
      "__________________________________________________________________________________________________\n",
      "activation_25 (Activation)      (None, 128, 24, 24)  0           batch_normalization_25[0][0]     \n",
      "__________________________________________________________________________________________________\n",
      "add_8 (Add)                     (None, 128, 24, 24)  0           add_7[0][0]                      \n",
      "                                                                 activation_25[0][0]              \n",
      "__________________________________________________________________________________________________\n",
      "conv2d_24 (Conv2D)              (None, 128, 24, 24)  147584      add_8[0][0]                      \n",
      "__________________________________________________________________________________________________\n",
      "batch_normalization_26 (BatchNo (None, 128, 24, 24)  384         conv2d_24[0][0]                  \n",
      "__________________________________________________________________________________________________\n",
      "activation_26 (Activation)      (None, 128, 24, 24)  0           batch_normalization_26[0][0]     \n",
      "__________________________________________________________________________________________________\n",
      "conv2d_25 (Conv2D)              (None, 128, 24, 24)  147584      activation_26[0][0]              \n",
      "__________________________________________________________________________________________________\n",
      "batch_normalization_27 (BatchNo (None, 128, 24, 24)  384         conv2d_25[0][0]                  \n",
      "__________________________________________________________________________________________________\n",
      "activation_27 (Activation)      (None, 128, 24, 24)  0           batch_normalization_27[0][0]     \n",
      "__________________________________________________________________________________________________\n",
      "add_9 (Add)                     (None, 128, 24, 24)  0           add_8[0][0]                      \n",
      "                                                                 activation_27[0][0]              \n",
      "__________________________________________________________________________________________________\n",
      "conv2d_26 (Conv2D)              (None, 128, 24, 24)  147584      add_9[0][0]                      \n",
      "__________________________________________________________________________________________________\n",
      "batch_normalization_28 (BatchNo (None, 128, 24, 24)  384         conv2d_26[0][0]                  \n",
      "__________________________________________________________________________________________________\n",
      "activation_28 (Activation)      (None, 128, 24, 24)  0           batch_normalization_28[0][0]     \n",
      "__________________________________________________________________________________________________\n",
      "conv2d_27 (Conv2D)              (None, 128, 24, 24)  147584      activation_28[0][0]              \n",
      "__________________________________________________________________________________________________\n",
      "batch_normalization_29 (BatchNo (None, 128, 24, 24)  384         conv2d_27[0][0]                  \n",
      "__________________________________________________________________________________________________\n",
      "activation_29 (Activation)      (None, 128, 24, 24)  0           batch_normalization_29[0][0]     \n",
      "__________________________________________________________________________________________________\n",
      "add_10 (Add)                    (None, 128, 24, 24)  0           add_9[0][0]                      \n",
      "                                                                 activation_29[0][0]              \n",
      "__________________________________________________________________________________________________\n",
      "conv2d_transpose_3 (Conv2DTrans (None, 64, 48, 48)   73792       add_10[0][0]                     \n",
      "__________________________________________________________________________________________________\n",
      "batch_normalization_30 (BatchNo (None, 64, 48, 48)   192         conv2d_transpose_3[0][0]         \n",
      "__________________________________________________________________________________________________\n",
      "activation_30 (Activation)      (None, 64, 48, 48)   0           batch_normalization_30[0][0]     \n",
      "__________________________________________________________________________________________________\n",
      "conv2d_transpose_4 (Conv2DTrans (None, 32, 96, 96)   18464       activation_30[0][0]              \n",
      "__________________________________________________________________________________________________\n",
      "batch_normalization_31 (BatchNo (None, 32, 96, 96)   96          conv2d_transpose_4[0][0]         \n",
      "__________________________________________________________________________________________________\n",
      "activation_31 (Activation)      (None, 32, 96, 96)   0           batch_normalization_31[0][0]     \n",
      "__________________________________________________________________________________________________\n",
      "zero_padding2d_4 (ZeroPadding2D (None, 32, 104, 104) 0           activation_31[0][0]              \n",
      "__________________________________________________________________________________________________\n",
      "conv2d_28 (Conv2D)              (None, 3, 96, 96)    7779        zero_padding2d_4[0][0]           \n",
      "__________________________________________________________________________________________________\n",
      "batch_normalization_32 (BatchNo (None, 3, 96, 96)    9           conv2d_28[0][0]                  \n",
      "__________________________________________________________________________________________________\n",
      "activation_32 (Activation)      (None, 3, 96, 96)    0           batch_normalization_32[0][0]     \n",
      "==================================================================================================\n",
      "Total params: 1,675,660\n",
      "Trainable params: 1,672,454\n",
      "Non-trainable params: 3,206\n",
      "__________________________________________________________________________________________________\n"
     ]
    }
   ],
   "source": [
    "model_.summary()"
   ]
  },
  {
   "cell_type": "code",
   "execution_count": 16,
   "metadata": {
    "collapsed": false
   },
   "outputs": [],
   "source": [
    "tensorboard = TensorBoard(log_dir=\"Sketch_invert_logs/{}\".format(time()), histogram_freq = 1, write_graph=True, write_images = True)"
   ]
  },
  {
   "cell_type": "code",
   "execution_count": 18,
   "metadata": {
    "collapsed": true
   },
   "outputs": [],
   "source": [
    "checkpointer = ModelCheckpoint(filepath='checkpoint_sketch.h5', save_best_only=True)"
   ]
  },
  {
   "cell_type": "code",
   "execution_count": 19,
   "metadata": {
    "collapsed": true
   },
   "outputs": [],
   "source": [
    "reduce_lr = ReduceLROnPlateau(monitor='val_loss', factor=0.2, patience=2, min_lr=1e-7)"
   ]
  },
  {
   "cell_type": "code",
   "execution_count": 20,
   "metadata": {
    "collapsed": true
   },
   "outputs": [],
   "source": [
    "callback_list = [tensorboard, checkpointer, reduce_lr]"
   ]
  },
  {
   "cell_type": "code",
   "execution_count": 26,
   "metadata": {
    "collapsed": true
   },
   "outputs": [],
   "source": [
    "x_val = []\n",
    "t_val = []\n",
    "\n",
    "for i in range(len(validation_set[1])):\n",
    "    x_val.append(validation_set[1][i])\n",
    "    t_val.append(validation_set[0][i])\n",
    "    \n",
    "valx = np.asarray(x_val)\n",
    "valt = np.asarray(t_val)"
   ]
  },
  {
   "cell_type": "code",
   "execution_count": null,
   "metadata": {
    "collapsed": true
   },
   "outputs": [],
   "source": [
    "model.fit_generator(batch_generator(), steps_per_epoch = batches, epochs=10, shuffle = True, \n",
    "                    validation_data = (valx, valt), callbacks = callback_list)"
   ]
  }
 ],
 "metadata": {
  "anaconda-cloud": {},
  "kernelspec": {
   "display_name": "Python [py3k]",
   "language": "python",
   "name": "Python [py3k]"
  },
  "language_info": {
   "codemirror_mode": {
    "name": "ipython",
    "version": 3
   },
   "file_extension": ".py",
   "mimetype": "text/x-python",
   "name": "python",
   "nbconvert_exporter": "python",
   "pygments_lexer": "ipython3",
   "version": "3.6.0"
  }
 },
 "nbformat": 4,
 "nbformat_minor": 0
}
