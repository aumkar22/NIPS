{
 "cells": [
  {
   "cell_type": "markdown",
   "metadata": {
    "colab_type": "text",
    "id": "TSXuZhUcyvhd"
   },
   "source": [
    "**SOW-MKI49: Neural Information Processing Systems**  \n",
    "*Weeks 4 and 5: Assignment (225 points + 30 bonus points)*  \n",
    "Author: Umut"
   ]
  },
  {
   "cell_type": "code",
   "execution_count": null,
   "metadata": {
    "colab": {},
    "colab_type": "code",
    "id": "hP3SeQrNyrLC"
   },
   "outputs": [],
   "source": [
    "# Group number: ...\n",
    "# Student 1 name, student 1 number: ...\n",
    "# Student 2 name, student 2 number: ...\n",
    "# Student 3 name, student 3 number: ..."
   ]
  },
  {
   "cell_type": "code",
   "execution_count": 1,
   "metadata": {},
   "outputs": [],
   "source": [
    "import os\n",
    "import numpy as np\n",
    "import cv2\n",
    "import pickle\n",
    "import random\n",
    "import pandas as pd\n",
    "import tensorflow as tf\n",
    "from glob import glob\n",
    "from time import time\n",
    "import tqdm\n",
    "import pdb"
   ]
  },
  {
   "cell_type": "code",
   "execution_count": 2,
   "metadata": {},
   "outputs": [],
   "source": [
    "epochs = 10\n",
    "batch_size = 32\n",
    "layers = tf.contrib.layers"
   ]
  },
  {
   "cell_type": "markdown",
   "metadata": {
    "colab_type": "text",
    "id": "RdDhV9ro3HS6"
   },
   "source": [
    "**WaveNet component (75 points)**\n",
    "\n",
    "* Implement missing parts of the call method (y and z). **25 points**\n",
    "* Implement residual block class. **50 points**\n",
    "\n",
    "---\n",
    "Reminder:\n",
    "\n",
    "* One convolution layer that has 61 kernels of size 2 with no nonlinearities.\n",
    "![alt text](http://i67.tinypic.com/21mgi2w.png)\n",
    "![alt text](http://i67.tinypic.com/292n04y.png)\n",
    "---\n",
    "\n"
   ]
  },
  {
   "cell_type": "code",
   "execution_count": 3,
   "metadata": {},
   "outputs": [],
   "source": [
    "root_dir = os.path.normpath(os.path.join(os.path.dirname(os.path.realpath('__file__'))))\n",
    "data_directory = os.path.join(root_dir, 'piano_roll_data')"
   ]
  },
  {
   "cell_type": "code",
   "execution_count": 4,
   "metadata": {},
   "outputs": [],
   "source": [
    "with open(os.path.join('piano_rolls.p'), 'rb') as f:\n",
    "    piano_rolls = pickle.load(f)"
   ]
  },
  {
   "cell_type": "code",
   "execution_count": 5,
   "metadata": {},
   "outputs": [],
   "source": [
    "keys = sorted(piano_rolls.keys())\n",
    "\n",
    "random.seed(6)\n",
    "random.shuffle(keys)\n",
    "\n",
    "test_set = dict((key, piano_rolls[key]) for key in keys[:int(0.1 * len(keys))])\n",
    "training_set = dict((key, piano_rolls[key]) for key in keys[int(0.1 * len(keys)):])\n",
    "training_set_keys = list(training_set.keys())"
   ]
  },
  {
   "cell_type": "code",
   "execution_count": 6,
   "metadata": {},
   "outputs": [],
   "source": [
    "def residual_block(y, i, par_conv_sum):\n",
    "    \n",
    "    short = y\n",
    "    \n",
    "    #padded_input = tf.pad(y, [[0, 0], [0, 0], [0, 0], [i, 0]], mode='CONSTANT')\n",
    "    \n",
    "    y_ = layers.conv2d(y, 122, kernel_size = 2, stride = 1, rate = i, data_format = 'NCHW')\n",
    "    \n",
    "    split1, split2 = tf.split(y_, [61, 61], axis = 1)\n",
    "    y1 = layers.conv2d(split1, 61, kernel_size = 2, stride = 1, rate = i, data_format = 'NCHW')\n",
    "    y2 = layers.conv2d(split2, 61, kernel_size = 2, stride = 1, rate = i, data_format = 'NCHW')\n",
    "\n",
    "    y1_tan = tf.nn.tanh(y1)\n",
    "    y2_sig = tf.nn.sigmoid(y2)\n",
    "\n",
    "    y_mul = tf.multiply(y1_tan, y2_sig)\n",
    "    \n",
    "    parallel_conv1 = layers.conv2d(y_mul, 61, kernel_size = 1, stride = 1, data_format = 'NCHW')\n",
    "    \n",
    "    parallel_conv2 = layers.conv2d(y_mul, 512, kernel_size = 1, stride = 1,  data_format = 'NCHW', activation_fn = tf.nn.relu)\n",
    "    \n",
    "    y_1 = tf.add(short, parallel_conv1)\n",
    "         \n",
    "    if i != 32:\n",
    "        \n",
    "        if i == 1:\n",
    "            return y_1, parallel_conv2\n",
    "        else:\n",
    "            return y_1, tf.add(parallel_conv2, par_conv_sum)\n",
    "        \n",
    "    elif i == 32:\n",
    "        return tf.add(parallel_conv2, par_conv_sum)"
   ]
  },
  {
   "cell_type": "code",
   "execution_count": 7,
   "metadata": {},
   "outputs": [],
   "source": [
    "def _crf(k, psi_u):\n",
    "    \n",
    "    q = psi_u\n",
    "    \n",
    "    #Message passing layer\n",
    "    y = tf.nn.softmax(psi_u, axis = 1)\n",
    "    y_ = tf.matmul(tf.transpose(y, perm = [0, 3, 1, 2]), tf.transpose(k, perm = [0, 3, 1, 2]))\n",
    "    #y_shape = y_.get_shape().as_list()\n",
    "    \n",
    "    #y_1 = tf.reshape(y_, (y_shape[0], y_shape[1] * y_shape[2], y_shape[3]))\n",
    "    pdb.set_trace()\n",
    "    #Compatibility transform layer\n",
    "    \n",
    "    #ctl = layers.conv2d(y_, 2, kernel_size = 1, stride = 1, data_format = 'NCHW')\n",
    "    \n",
    "    #Local update and normalization layer\n",
    "    \n",
    "    z = tf.subtract(tf.transpose(-psi_u, perm = [0, 3, 1, 2]), y_)\n",
    "    #z = tf.\n",
    "    \n",
    "    for i in range(5):\n",
    "        \n",
    "        if i == 4:\n",
    "            return z\n",
    "            \n",
    "        elif i < 4:\n",
    "            z = tf.nn.softmax(z, axis = 1)\n",
    "            "
   ]
  },
  {
   "cell_type": "code",
   "execution_count": 8,
   "metadata": {},
   "outputs": [],
   "source": [
    "def waveCRF(input_):\n",
    "\n",
    "    padded_input = tf.pad(input_, [[0, 0], [0, 0], [0, 0], [1, 0]], mode='CONSTANT') # (batch_size, channels, notes, time)\n",
    "\n",
    "    model = layers.conv2d(padded_input, 61, kernel_size = 2, data_format = 'NCHW')\n",
    "    \n",
    "    model_shape = model.get_shape().as_list()\n",
    "    \n",
    "    conv_init = tf.zeros([batch_size, 512, model_shape[2], model_shape[3]], tf.float32)\n",
    "    \n",
    "    res1, sum1 = residual_block(model, 1, conv_init)\n",
    "\n",
    "    res2, sum2 = residual_block(res1, 2, sum1)\n",
    "\n",
    "    res3, sum3 = residual_block(res2, 4, sum2)\n",
    "\n",
    "    res4, sum4 = residual_block(res3, 8, sum3)\n",
    "\n",
    "    res5, sum5 = residual_block(res4, 16, sum4)\n",
    "\n",
    "    res6 = residual_block(res5, 32, sum5)\n",
    "\n",
    "    model_ = layers.conv2d(res6, 3843, kernel_size = 1, stride = 1, data_format = 'NCHW')\n",
    "\n",
    "    out1, out2 = tf.split(model_, [3721, 122], axis = 1)\n",
    "\n",
    "    out_shape1 = out1.get_shape().as_list()\n",
    "\n",
    "    out_shape2 = out2.get_shape().as_list()\n",
    "    pdb.set_trace()\n",
    "    wave_out1 = tf.reshape(out1, (out_shape1[0], 61, 61, out_shape1[2] * out_shape1[3]))  #k\n",
    "\n",
    "    wave_out2 = tf.reshape(out2, (out_shape2[0], 2, 61, out_shape2[2] * out_shape2[3]))  #psi_u\n",
    "\n",
    "    return _crf(wave_out1, wave_out2)"
   ]
  },
  {
   "cell_type": "code",
   "execution_count": 9,
   "metadata": {},
   "outputs": [
    {
     "data": {
      "application/vnd.jupyter.widget-view+json": {
       "model_id": "dfa8dec21da44494a8a18ee6f91d9e03",
       "version_major": 2,
       "version_minor": 0
      },
      "text/plain": [
       "HBox(children=(IntProgress(value=0, max=10), HTML(value='')))"
      ]
     },
     "metadata": {},
     "output_type": "display_data"
    },
    {
     "data": {
      "application/vnd.jupyter.widget-view+json": {
       "model_id": "39423279375c4b12ae3c999c7294c0be",
       "version_major": 2,
       "version_minor": 0
      },
      "text/plain": [
       "HBox(children=(IntProgress(value=0, max=3273), HTML(value='')))"
      ]
     },
     "metadata": {},
     "output_type": "display_data"
    },
    {
     "name": "stdout",
     "output_type": "stream",
     "text": [
      "(32, 61, 1, 80)\n",
      "> <ipython-input-8-ed92ffc0b522>(31)waveCRF()\n",
      "-> wave_out1 = tf.reshape(out1, (out_shape1[0], 61, 61, out_shape1[2] * out_shape1[3]))  #k\n",
      "(Pdb) n\n",
      "> <ipython-input-8-ed92ffc0b522>(33)waveCRF()\n",
      "-> wave_out2 = tf.reshape(out2, (out_shape2[0], 2, 61, out_shape2[2] * out_shape2[3]))  #psi_u\n",
      "(Pdb) n\n",
      "> <ipython-input-8-ed92ffc0b522>(35)waveCRF()\n",
      "-> return _crf(wave_out1, wave_out2)\n",
      "(Pdb) n\n",
      "> <ipython-input-7-ff9ad9c8cfcd>(18)_crf()\n",
      "-> z = tf.subtract(tf.transpose(-psi_u, perm = [0, 3, 1, 2]), y_)\n",
      "(Pdb) n\n",
      "> <ipython-input-7-ff9ad9c8cfcd>(21)_crf()\n",
      "-> for i in range(5):\n",
      "(Pdb) n\n",
      "> <ipython-input-7-ff9ad9c8cfcd>(23)_crf()\n",
      "-> if i == 4:\n",
      "(Pdb) n\n",
      "> <ipython-input-7-ff9ad9c8cfcd>(26)_crf()\n",
      "-> elif i < 4:\n",
      "(Pdb) n\n",
      "> <ipython-input-7-ff9ad9c8cfcd>(27)_crf()\n",
      "-> z = tf.nn.softmax(z, axis = 1)\n",
      "(Pdb) n\n",
      "> <ipython-input-7-ff9ad9c8cfcd>(21)_crf()\n",
      "-> for i in range(5):\n",
      "(Pdb) n\n",
      "> <ipython-input-7-ff9ad9c8cfcd>(23)_crf()\n",
      "-> if i == 4:\n",
      "(Pdb) n\n",
      "> <ipython-input-7-ff9ad9c8cfcd>(26)_crf()\n",
      "-> elif i < 4:\n",
      "(Pdb) n\n",
      "> <ipython-input-7-ff9ad9c8cfcd>(27)_crf()\n",
      "-> z = tf.nn.softmax(z, axis = 1)\n",
      "(Pdb) n\n",
      "> <ipython-input-7-ff9ad9c8cfcd>(21)_crf()\n",
      "-> for i in range(5):\n",
      "(Pdb) n\n",
      "> <ipython-input-7-ff9ad9c8cfcd>(23)_crf()\n",
      "-> if i == 4:\n",
      "(Pdb) \n",
      "> <ipython-input-7-ff9ad9c8cfcd>(26)_crf()\n",
      "-> elif i < 4:\n",
      "(Pdb) n\n",
      "> <ipython-input-7-ff9ad9c8cfcd>(27)_crf()\n",
      "-> z = tf.nn.softmax(z, axis = 1)\n",
      "(Pdb) n\n",
      "> <ipython-input-7-ff9ad9c8cfcd>(21)_crf()\n",
      "-> for i in range(5):\n",
      "(Pdb) n\n",
      "> <ipython-input-7-ff9ad9c8cfcd>(23)_crf()\n",
      "-> if i == 4:\n",
      "(Pdb) \n",
      "> <ipython-input-7-ff9ad9c8cfcd>(26)_crf()\n",
      "-> elif i < 4:\n",
      "(Pdb) n\n",
      "> <ipython-input-7-ff9ad9c8cfcd>(27)_crf()\n",
      "-> z = tf.nn.softmax(z, axis = 1)\n",
      "(Pdb) n\n",
      "> <ipython-input-7-ff9ad9c8cfcd>(21)_crf()\n",
      "-> for i in range(5):\n",
      "(Pdb) n\n",
      "> <ipython-input-7-ff9ad9c8cfcd>(23)_crf()\n",
      "-> if i == 4:\n",
      "(Pdb) n\n",
      "> <ipython-input-7-ff9ad9c8cfcd>(24)_crf()\n",
      "-> return z\n",
      "(Pdb) n\n",
      "--Return--\n",
      "> <ipython-input-7-ff9ad9c8cfcd>(24)_crf()-><tf.Tensor 't...dtype=float32>\n",
      "-> return z\n",
      "(Pdb) n\n",
      "--Return--\n",
      "> <ipython-input-8-ed92ffc0b522>(35)waveCRF()-><tf.Tensor 't...dtype=float32>\n",
      "-> return _crf(wave_out1, wave_out2)\n",
      "(Pdb) n\n",
      "> <ipython-input-9-8b3911f76135>(24)<module>()\n",
      "-> train_loss = tf.losses.softmax_cross_entropy(Q, logits = Q_hat)\n",
      "(Pdb) n\n",
      "ValueError: Shapes (32, 81, 2, 61) and (32, 61, 79) are incompatible\n",
      "> <ipython-input-9-8b3911f76135>(24)<module>()\n",
      "-> train_loss = tf.losses.softmax_cross_entropy(Q, logits = Q_hat)\n",
      "(Pdb) q\n"
     ]
    },
    {
     "ename": "BdbQuit",
     "evalue": "",
     "output_type": "error",
     "traceback": [
      "\u001b[0;31m---------------------------------------------------------------------------\u001b[0m",
      "\u001b[0;31mBdbQuit\u001b[0m                                   Traceback (most recent call last)",
      "\u001b[0;32m<ipython-input-9-8b3911f76135>\u001b[0m in \u001b[0;36m<module>\u001b[0;34m()\u001b[0m\n\u001b[1;32m     22\u001b[0m                 \u001b[0mQ_hat\u001b[0m \u001b[0;34m=\u001b[0m \u001b[0mwaveCRF\u001b[0m\u001b[0;34m(\u001b[0m\u001b[0minput_\u001b[0m\u001b[0;34m)\u001b[0m\u001b[0;34m\u001b[0m\u001b[0m\n\u001b[1;32m     23\u001b[0m \u001b[0;34m\u001b[0m\u001b[0m\n\u001b[0;32m---> 24\u001b[0;31m                 \u001b[0mtrain_loss\u001b[0m \u001b[0;34m=\u001b[0m \u001b[0mtf\u001b[0m\u001b[0;34m.\u001b[0m\u001b[0mlosses\u001b[0m\u001b[0;34m.\u001b[0m\u001b[0msoftmax_cross_entropy\u001b[0m\u001b[0;34m(\u001b[0m\u001b[0mQ\u001b[0m\u001b[0;34m,\u001b[0m \u001b[0mlogits\u001b[0m \u001b[0;34m=\u001b[0m \u001b[0mQ_hat\u001b[0m\u001b[0;34m)\u001b[0m\u001b[0;34m\u001b[0m\u001b[0m\n\u001b[0m\u001b[1;32m     25\u001b[0m                 \u001b[0mOptimizer\u001b[0m \u001b[0;34m=\u001b[0m \u001b[0mtf\u001b[0m\u001b[0;34m.\u001b[0m\u001b[0mtrain\u001b[0m\u001b[0;34m.\u001b[0m\u001b[0mAdamOptimizer\u001b[0m\u001b[0;34m(\u001b[0m\u001b[0mlearning_rate\u001b[0m\u001b[0;34m=\u001b[0m\u001b[0;36m1e-4\u001b[0m\u001b[0;34m,\u001b[0m \u001b[0mbeta1\u001b[0m\u001b[0;34m=\u001b[0m\u001b[0;36m0.9\u001b[0m\u001b[0;34m,\u001b[0m \u001b[0mbeta2\u001b[0m\u001b[0;34m=\u001b[0m\u001b[0;36m0.999\u001b[0m\u001b[0;34m,\u001b[0m \u001b[0mepsilon\u001b[0m\u001b[0;34m=\u001b[0m\u001b[0;36m1e-8\u001b[0m\u001b[0;34m)\u001b[0m\u001b[0;34m.\u001b[0m\u001b[0mminimize\u001b[0m\u001b[0;34m(\u001b[0m\u001b[0mtrain_loss\u001b[0m\u001b[0;34m,\u001b[0m \u001b[0mvar_list\u001b[0m \u001b[0;34m=\u001b[0m \u001b[0mt_vars\u001b[0m\u001b[0;34m)\u001b[0m\u001b[0;34m\u001b[0m\u001b[0m\n\u001b[1;32m     26\u001b[0m                 \u001b[0m_\u001b[0m\u001b[0;34m,\u001b[0m \u001b[0mlossV\u001b[0m\u001b[0;34m,\u001b[0m \u001b[0m_trainY\u001b[0m\u001b[0;34m,\u001b[0m \u001b[0m_predict\u001b[0m \u001b[0;34m=\u001b[0m \u001b[0msess\u001b[0m\u001b[0;34m.\u001b[0m\u001b[0mrun\u001b[0m\u001b[0;34m(\u001b[0m\u001b[0;34m[\u001b[0m\u001b[0mOptimizer\u001b[0m\u001b[0;34m,\u001b[0m \u001b[0mtrain_loss\u001b[0m\u001b[0;34m,\u001b[0m \u001b[0mQ\u001b[0m\u001b[0;34m,\u001b[0m \u001b[0mQ_hat\u001b[0m\u001b[0;34m]\u001b[0m\u001b[0;34m)\u001b[0m\u001b[0;34m\u001b[0m\u001b[0m\n",
      "\u001b[0;32m~/anaconda3/envs/fastai/lib/python3.6/bdb.py\u001b[0m in \u001b[0;36mtrace_dispatch\u001b[0;34m(self, frame, event, arg)\u001b[0m\n\u001b[1;32m     55\u001b[0m             \u001b[0;32mreturn\u001b[0m \u001b[0mself\u001b[0m\u001b[0;34m.\u001b[0m\u001b[0mdispatch_return\u001b[0m\u001b[0;34m(\u001b[0m\u001b[0mframe\u001b[0m\u001b[0;34m,\u001b[0m \u001b[0marg\u001b[0m\u001b[0;34m)\u001b[0m\u001b[0;34m\u001b[0m\u001b[0m\n\u001b[1;32m     56\u001b[0m         \u001b[0;32mif\u001b[0m \u001b[0mevent\u001b[0m \u001b[0;34m==\u001b[0m \u001b[0;34m'exception'\u001b[0m\u001b[0;34m:\u001b[0m\u001b[0;34m\u001b[0m\u001b[0m\n\u001b[0;32m---> 57\u001b[0;31m             \u001b[0;32mreturn\u001b[0m \u001b[0mself\u001b[0m\u001b[0;34m.\u001b[0m\u001b[0mdispatch_exception\u001b[0m\u001b[0;34m(\u001b[0m\u001b[0mframe\u001b[0m\u001b[0;34m,\u001b[0m \u001b[0marg\u001b[0m\u001b[0;34m)\u001b[0m\u001b[0;34m\u001b[0m\u001b[0m\n\u001b[0m\u001b[1;32m     58\u001b[0m         \u001b[0;32mif\u001b[0m \u001b[0mevent\u001b[0m \u001b[0;34m==\u001b[0m \u001b[0;34m'c_call'\u001b[0m\u001b[0;34m:\u001b[0m\u001b[0;34m\u001b[0m\u001b[0m\n\u001b[1;32m     59\u001b[0m             \u001b[0;32mreturn\u001b[0m \u001b[0mself\u001b[0m\u001b[0;34m.\u001b[0m\u001b[0mtrace_dispatch\u001b[0m\u001b[0;34m\u001b[0m\u001b[0m\n",
      "\u001b[0;32m~/anaconda3/envs/fastai/lib/python3.6/bdb.py\u001b[0m in \u001b[0;36mdispatch_exception\u001b[0;34m(self, frame, arg)\u001b[0m\n\u001b[1;32m    111\u001b[0m                     and arg[0] is StopIteration and arg[2] is None):\n\u001b[1;32m    112\u001b[0m                 \u001b[0mself\u001b[0m\u001b[0;34m.\u001b[0m\u001b[0muser_exception\u001b[0m\u001b[0;34m(\u001b[0m\u001b[0mframe\u001b[0m\u001b[0;34m,\u001b[0m \u001b[0marg\u001b[0m\u001b[0;34m)\u001b[0m\u001b[0;34m\u001b[0m\u001b[0m\n\u001b[0;32m--> 113\u001b[0;31m                 \u001b[0;32mif\u001b[0m \u001b[0mself\u001b[0m\u001b[0;34m.\u001b[0m\u001b[0mquitting\u001b[0m\u001b[0;34m:\u001b[0m \u001b[0;32mraise\u001b[0m \u001b[0mBdbQuit\u001b[0m\u001b[0;34m\u001b[0m\u001b[0m\n\u001b[0m\u001b[1;32m    114\u001b[0m         \u001b[0;31m# Stop at the StopIteration or GeneratorExit exception when the user\u001b[0m\u001b[0;34m\u001b[0m\u001b[0;34m\u001b[0m\u001b[0m\n\u001b[1;32m    115\u001b[0m         \u001b[0;31m# has set stopframe in a generator by issuing a return command, or a\u001b[0m\u001b[0;34m\u001b[0m\u001b[0;34m\u001b[0m\u001b[0m\n",
      "\u001b[0;31mBdbQuit\u001b[0m: "
     ]
    }
   ],
   "source": [
    "with tf.Session() as sess:\n",
    "    tf.global_variables_initializer().run()\n",
    "    coord = tf.train.Coordinator()\n",
    "    threads = tf.train.start_queue_runners(coord=coord)\n",
    "\n",
    "    for epoch in tqdm.tnrange(epochs):\n",
    "        random.shuffle(training_set_keys)\n",
    "\n",
    "        batch = ()\n",
    "\n",
    "        for key in tqdm.tqdm_notebook(training_set_keys, leave = False):\n",
    "            i = random.randint(0, training_set[key].shape[1] - 80)\n",
    "            batch += (training_set[key][32 : 93, i : i + 80],)\n",
    "\n",
    "            if len(batch) == batch_size:\n",
    "                batch = np.asarray(batch)\n",
    "                #batch = tf.reshape(batch, [batch_size, 1, 61, 80])\n",
    "                \n",
    "                Q = batch[:, :, 1:].astype('i')\n",
    "                input_ = batch[:, :, None, :].astype('f')\n",
    "                print(input_.shape)\n",
    "                Q_hat = waveCRF(input_)\n",
    "\n",
    "                train_loss = tf.losses.softmax_cross_entropy(Q, logits = Q_hat)\n",
    "                Optimizer = tf.train.AdamOptimizer(learning_rate=1e-4, beta1=0.9, beta2=0.999, epsilon=1e-8).minimize(train_loss, var_list = t_vars)\n",
    "                _, lossV, _trainY, _predict = sess.run([Optimizer, train_loss, Q, Q_hat])\n",
    "                _label = np.argmax(_trainY, axis=1)\n",
    "                _accuracy = np.mean(_label == _predict)\n",
    "                plot.plot('loss', lossV)\n",
    "                plot.plot('train accuracy', _accuracy)\n"
   ]
  },
  {
   "cell_type": "code",
   "execution_count": null,
   "metadata": {},
   "outputs": [],
   "source": [
    "batch_loss = "
   ]
  },
  {
   "cell_type": "code",
   "execution_count": null,
   "metadata": {},
   "outputs": [],
   "source": [
    "t_vars = tf.trainable_variables()"
   ]
  },
  {
   "cell_type": "code",
   "execution_count": null,
   "metadata": {},
   "outputs": [],
   "source": [
    "Optimizer = tf.train.AdamOptimizer(learning_rate=1e-4, beta1=0.9, beta2=0.999, epsilon=1e-8).minimize(loss, var_list = t_vars)"
   ]
  },
  {
   "cell_type": "code",
   "execution_count": null,
   "metadata": {},
   "outputs": [],
   "source": [
    "[2 ** (i % 6) for i in range(6)]"
   ]
  },
  {
   "cell_type": "code",
   "execution_count": null,
   "metadata": {
    "colab": {},
    "colab_type": "code",
    "id": "xZsQTKPI3Fcy"
   },
   "outputs": [],
   "source": [
    "class _WaveNet(ChainList):\n",
    "    def __init__(self):\n",
    "        links = (L.Convolution2D(61, 2 * 61, (1, 2)),)\n",
    "        \n",
    "        links += tuple(_ResidualBlock((1, 2 ** (i % 6))) for i in range(6))\n",
    "        links += (L.Convolution2D(512, 512, 1), L.Convolution2D(512, 3843, 1))\n",
    "\n",
    "        super(_WaveNet, self).__init__(*links)\n",
    "\n",
    "    def __call__(self, x):\n",
    "        y = (self[0](F.pad(x, ((0, 0), (0, 0), (0, 0), (1, 0)), 'constant')),)\n",
    "        z = 0\n",
    "        h = F.split_axis(layer(x), 2, 1)\n",
    "        y = F.sigmoid(h[0]) * F.tanh(h[1])\n",
    "\n",
    "        for i in range(1, len(self) - 2):\n",
    "            y = self[i]()\n",
    "            #z +=\n",
    "\n",
    "        #y, z =\n",
    "\n",
    "        return F.reshape(y, (y.shape[0], 61, 61, y.shape[3])), \\\n",
    "               F.reshape(z, (z.shape[0], 2, 61, z.shape[3]))\n",
    "\n",
    "class _ResidualBlock(ChainList):\n",
    "    def __init__(self):\n",
    "        \n",
    "        with self.init_scope():\n",
    "            self.convolution2D_0 = L.convolution2D(in_channels, 64, (1, 1))\n",
    "            self.convolution2D_1 = L.convolution2D(in_channels, 512, 1)\n",
    "            \n",
    "            \n",
    "    def __call__(self, x):\n",
    "        \n",
    "        \n",
    "        \n",
    "        \n",
    "    pass"
   ]
  },
  {
   "cell_type": "markdown",
   "metadata": {
    "colab_type": "text",
    "id": "SFoUw1ve3wGY"
   },
   "source": [
    "**CRF-RNN component (50 points)**\n",
    "\n",
    "* Implement missing parts of the call method (z). **25 points**\n",
    "* Why is z not normalized in the last iteration? **25 points**\n",
    "\n",
    "---\n",
    "\n",
    "Reminder:\n",
    "\n",
    "![alt text](http://i68.tinypic.com/sy6mix.png)\n",
    "\n",
    "---"
   ]
  },
  {
   "cell_type": "code",
   "execution_count": null,
   "metadata": {
    "colab": {},
    "colab_type": "code",
    "id": "dV1Pd5l3w2ge"
   },
   "outputs": [],
   "source": [
    "class _CRF(ChainList):\n",
    "    def __init__(self):\n",
    "        super(_CRF, self).__init__(L.ConvolutionND(1, 2, 2, 1, nobias = True))\n",
    "\n",
    "    def __call__(self, x, y):\n",
    "        #z =\n",
    "\n",
    "        for i in range(5):\n",
    "            #z =\n",
    "\n",
    "            if i < 4:\n",
    "                z = F.softmax(z)\n",
    "\n",
    "        return z"
   ]
  },
  {
   "cell_type": "markdown",
   "metadata": {
    "colab_type": "text",
    "id": "BvbxbgS64Z1Y"
   },
   "source": [
    "**WaveCRF model (50 points)**\n",
    "\n",
    "1. Implement missing parts of the call method (k, psi_u and Q_hat). **20 points**\n",
    "2. Implement missing parts of the save and load methods (save and load model). **10 points**\n",
    "3. Implement missing parts of the test and train methods (forward and/or backward propagate). **20 points**"
   ]
  },
  {
   "cell_type": "code",
   "execution_count": null,
   "metadata": {
    "colab": {},
    "colab_type": "code",
    "id": "ACORyKorw_T1"
   },
   "outputs": [],
   "source": [
    "class WaveCRF(object):\n",
    "    def __init__(self):\n",
    "        self.log = {('test', 'accuracy'): (), ('test', 'loss'): (), ('training', 'accuracy'): (),\n",
    "                    ('training', 'loss'): ()}\n",
    "        self.model = ChainList(_WaveNet(), _CRF())\n",
    "        self.optimizer = optimizers.Adam(0.0002, 0.5)\n",
    "\n",
    "        self.optimizer.setup(self.model)\n",
    "\n",
    "    def __call__(self, x):\n",
    "        #k, psi_u =\n",
    "        #Q_hat =\n",
    "\n",
    "        return F.transpose(F.reshape(Q_hat, (x.shape[0], x.shape[3], 2, 61)), (0, 2, 3, 1))\n",
    "\n",
    "    @classmethod\n",
    "    def load(cls, directory):\n",
    "        self = cls()\n",
    "        self.log = np.load('{}/log.npy'.format(directory))\n",
    "\n",
    "        # Load model\n",
    "        serializers.load_npz('{}/optimizer.npz'.format(directory), self.optimizer)\n",
    "\n",
    "        return self\n",
    "\n",
    "    def save(self, directory):\n",
    "        np.save('{}/log.npy'.format(directory), self.log)\n",
    "        # Save model\n",
    "        serializers.save_npz('{}/optimizer.npz'.format(directory), self.optimizer)\n",
    "\n",
    "    def test(self, Q, x):\n",
    "        with chainer.using_config('train', False):\n",
    "            # Forward prop\n",
    "            # Forward prop\n",
    "\n",
    "            self.log['test', 'accuracy'] += (float(F.accuracy(Q_hat, Q).data),)\n",
    "            self.log['test', 'loss'] += (float(loss.data),)\n",
    "\n",
    "    def train(self, Q, x):\n",
    "        # Forward prop\n",
    "        # Forward prop\n",
    "\n",
    "        # Backprop\n",
    "        # Backprop\n",
    "        # Backprop\n",
    "\n",
    "        self.log['training', 'accuracy'] += (float(F.accuracy(Q_hat, Q).data),)\n",
    "        self.log['training', 'loss'] += (float(loss.data),)"
   ]
  },
  {
   "cell_type": "code",
   "execution_count": null,
   "metadata": {
    "colab": {},
    "colab_type": "code",
    "id": "sN6H9URT926N"
   },
   "outputs": [],
   "source": [
    "%matplotlib inline\n",
    "\n",
    "import IPython\n",
    "import chainer\n",
    "import matplotlib\n",
    "import numpy\n",
    "import os\n",
    "import pickle\n",
    "import random\n",
    "import tqdm"
   ]
  },
  {
   "cell_type": "code",
   "execution_count": null,
   "metadata": {
    "colab": {},
    "colab_type": "code",
    "id": "_tS3Y0yWwb3r"
   },
   "outputs": [],
   "source": [
    "batch_size = 30\n",
    "epochs = 100\n",
    "root = '..'"
   ]
  },
  {
   "cell_type": "code",
   "execution_count": null,
   "metadata": {
    "colab": {},
    "colab_type": "code",
    "id": "VRcSp6shwg_Y"
   },
   "outputs": [],
   "source": [
    "with open('{}/Data/piano_rolls.p'.format(root), 'rb') as f:\n",
    "    piano_rolls = pickle.load(f)\n",
    "\n",
    "keys = sorted(piano_rolls.keys())\n",
    "\n",
    "random.seed(6)\n",
    "random.shuffle(keys)\n",
    "\n",
    "test_set = dict((key, piano_rolls[key]) for key in keys[:int(0.1 * len(keys))])\n",
    "training_set = dict((key, piano_rolls[key]) for key in keys[int(0.1 * len(keys)):])\n",
    "training_set_keys = list(training_set.keys())"
   ]
  },
  {
   "cell_type": "code",
   "execution_count": null,
   "metadata": {
    "colab": {},
    "colab_type": "code",
    "id": "YUVzWwIJwjQ7"
   },
   "outputs": [],
   "source": [
    "waveCRF = WaveCRF()\n",
    "\n",
    "waveCRF.model.to_gpu()"
   ]
  },
  {
   "cell_type": "code",
   "execution_count": null,
   "metadata": {
    "colab": {},
    "colab_type": "code",
    "id": "4zWuKZ1EwlKa"
   },
   "outputs": [],
   "source": [
    "for epoch in tqdm.tnrange(epochs):\n",
    "    random.shuffle(training_set_keys)\n",
    "\n",
    "    batch = ()\n",
    "\n",
    "    for key in tqdm.tqdm_notebook(training_set_keys, leave = False):\n",
    "        i = random.randint(0, training_set[key].shape[1] - 80)\n",
    "        batch += (training_set[key][32 : 93, i : i + 80],)\n",
    "\n",
    "        if len(batch) == batch_size:\n",
    "            batch = waveCRF.model.xp.array(batch)\n",
    "\n",
    "            waveCRF.train(batch[:, :, 1:].astype('i'), batch[:, :, None, :-1].astype('f'))\n",
    "\n",
    "            batch = ()\n",
    "\n",
    "    for key in tqdm.tqdm_notebook(test_set, leave = False):\n",
    "        batch = waveCRF.model.xp.array((test_set[key][32 : 93],))\n",
    "\n",
    "        waveCRF.test(batch[:, :, 1:].astype('i'), batch[:, :, None, :-1].astype('f'))\n",
    "\n",
    "    IPython.display.clear_output()\n",
    "\n",
    "    for i, key in enumerate(waveCRF.log):\n",
    "        matplotlib.pyplot.subplot(221 + i)\n",
    "        matplotlib.pyplot.plot(numpy.array(waveCRF.log[key]).reshape(epoch + 1, -1).mean(1))\n",
    "        matplotlib.pyplot.xlabel('iteration')\n",
    "        matplotlib.pyplot.ylabel(key)\n",
    "\n",
    "    matplotlib.pyplot.tight_layout()\n",
    "    matplotlib.pyplot.show()\n",
    "    os.makedirs('{}/Models/WaveCRF/{}'.format(root, epoch))\n",
    "    waveCRF.save('{}/Models/WaveCRF/{}'.format(root, epoch))"
   ]
  },
  {
   "cell_type": "markdown",
   "metadata": {
    "colab_type": "text",
    "id": "NqNHKCblzY52"
   },
   "source": [
    "**Test (50 points)**  \n",
    "\n",
    "* Generate a number of samples, pick the best one and play it in the notebook. **50 points**"
   ]
  },
  {
   "cell_type": "code",
   "execution_count": null,
   "metadata": {
    "colab": {},
    "colab_type": "code",
    "id": "6PGOJ_hHzZDg"
   },
   "outputs": [],
   "source": [
    "# Test"
   ]
  },
  {
   "cell_type": "markdown",
   "metadata": {
    "colab_type": "text",
    "id": "qX69DLwW_yMx"
   },
   "source": [
    "**Bonus question (30 points)**\n",
    "\n",
    "* Discuss how you can improve the model (you can talk about different architectures or different ways to encode the inputs, etc.) **10 points**\n",
    "* Discuss the assumptions behind the meanfield approximation and its shortcomings. **10 points**\n",
    "* Prove that the iterative update equation (CRF-RNN component) is differentiable so that we can backpropagate through them. **10 points**"
   ]
  }
 ],
 "metadata": {
  "anaconda-cloud": {},
  "colab": {
   "name": "weeks_4_and_5_assignment.ipynb",
   "provenance": [],
   "version": "0.3.2"
  },
  "kernelspec": {
   "display_name": "Python 3",
   "language": "python",
   "name": "python3"
  },
  "language_info": {
   "codemirror_mode": {
    "name": "ipython",
    "version": 3
   },
   "file_extension": ".py",
   "mimetype": "text/x-python",
   "name": "python",
   "nbconvert_exporter": "python",
   "pygments_lexer": "ipython3",
   "version": "3.6.6"
  }
 },
 "nbformat": 4,
 "nbformat_minor": 1
}
