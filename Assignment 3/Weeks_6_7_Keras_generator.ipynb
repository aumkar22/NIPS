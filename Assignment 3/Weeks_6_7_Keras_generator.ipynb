{
 "cells": [
  {
   "cell_type": "code",
   "execution_count": null,
   "metadata": {
    "collapsed": false
   },
   "outputs": [],
   "source": [
    "import keras\n",
    "import numpy as np\n",
    "from keras import backend as k\n",
    "from keras import optimizers\n",
    "from keras.layers import *\n",
    "from keras.models import Model\n",
    "from keras.callbacks import TensorBoard, ModelCheckpoint\n",
    "from keras.models import load_model\n",
    "from keras.engine.topology import Layer\n",
    "from keras.datasets import mnist\n",
    "from keras.losses import binary_crossentropy"
   ]
  },
  {
   "cell_type": "code",
   "execution_count": null,
   "metadata": {
    "collapsed": true
   },
   "outputs": [],
   "source": [
    "batchsize = 32\n",
    "n_z = 20"
   ]
  },
  {
   "cell_type": "code",
   "execution_count": null,
   "metadata": {
    "collapsed": true
   },
   "outputs": [],
   "source": [
    "def sample_z(args):\n",
    "    mu, log_sigma = args\n",
    "    batch = K.shape(mu)[0]\n",
    "    dim = K.int_shape(mu)[1]\n",
    "    eps = K.random_normal(shape=(batch, dim), mean=0., stddev=1.)\n",
    "    return mu + K.exp(log_sigma / 2) * eps"
   ]
  },
  {
   "cell_type": "code",
   "execution_count": null,
   "metadata": {
    "collapsed": true
   },
   "outputs": [],
   "source": [
    "(x_train, y_train), (x_test, y_test) = mnist.load_data()\n",
    "batches = int(len(x_train)/batchsize)"
   ]
  },
  {
   "cell_type": "code",
   "execution_count": null,
   "metadata": {
    "collapsed": true
   },
   "outputs": [],
   "source": [
    "image_size = x_train.shape[1]"
   ]
  },
  {
   "cell_type": "code",
   "execution_count": null,
   "metadata": {
    "collapsed": true
   },
   "outputs": [],
   "source": [
    "def batch_generator():\n",
    "    \n",
    "    while True:\n",
    "\n",
    "        for batch in range(batches):\n",
    "            x = []\n",
    "            \n",
    "            data = x_train[batch * batchsize: (batch + 1) * batchsize]\n",
    "            for i in data:\n",
    "                x.append(np.reshape(i, (28, 28, 1)))\n",
    "            \n",
    "            x_train1 = np.asarray(x)\n",
    "            yield (x_train1, x_train1) # the data is also the target (since we're re-generating images)"
   ]
  },
  {
   "cell_type": "code",
   "execution_count": null,
   "metadata": {
    "collapsed": true
   },
   "outputs": [],
   "source": [
    "inputs1 = Input(shape = (28, 28, 1))\n",
    "\n",
    "encode = Conv2D(32, (2, 2), strides=2, padding = 'same')(inputs1)\n",
    "\n",
    "encode = Activation('relu')(encode)\n",
    "\n",
    "encode = Conv2D(32, (2, 2), strides=2, padding = 'same')(encode)\n",
    "\n",
    "encode = Activation('relu')(encode)\n",
    "\n",
    "out_shape = list(k.int_shape(encode))\n",
    "\n",
    "encode = Flatten()(encode)\n",
    "\n",
    "encode = Dense(420, activation = 'relu')(encode)\n",
    "\n",
    "encode = Dropout(0.5)(encode)\n",
    "\n",
    "mu = Dense(n_z, activation = 'linear')(encode)\n",
    "\n",
    "log_sigma = Dense(n_z, activation = 'linear')(encode)\n",
    "\n",
    "latent_vector = Lambda(sample_z, output_shape=(n_z,))([mu, log_sigma])\n",
    "\n",
    "model_encoder = Model(inputs = inputs1, outputs = [mu, log_sigma, latent_vector])"
   ]
  },
  {
   "cell_type": "code",
   "execution_count": null,
   "metadata": {
    "collapsed": false
   },
   "outputs": [],
   "source": [
    "model_encoder.summary()"
   ]
  },
  {
   "cell_type": "code",
   "execution_count": null,
   "metadata": {
    "collapsed": true
   },
   "outputs": [],
   "source": [
    "inputs2 = Input(shape = (n_z,))\n",
    "\n",
    "decode = Dense(out_shape[1] * out_shape[2] * out_shape[3], activation = 'relu')(inputs2)\n",
    "\n",
    "decode = Reshape((out_shape[1], out_shape[2], out_shape[3]))(decode)\n",
    "\n",
    "decode = Conv2DTranspose(32, (2, 2), strides=2, padding = 'same')(decode)\n",
    "\n",
    "decode = Activation('relu')(decode)\n",
    "\n",
    "decode = Conv2DTranspose(32, (2, 2), strides=2, padding = 'same')(decode)\n",
    "\n",
    "decode = Activation('relu')(decode)\n",
    "\n",
    "out = Conv2DTranspose(1, (2, 2), activation = 'sigmoid', padding = 'same')(decode)\n",
    "\n",
    "model_decoder = Model(inputs = inputs2, outputs = out)"
   ]
  },
  {
   "cell_type": "code",
   "execution_count": null,
   "metadata": {
    "collapsed": false
   },
   "outputs": [],
   "source": [
    "model_decoder.summary()"
   ]
  },
  {
   "cell_type": "code",
   "execution_count": null,
   "metadata": {
    "collapsed": true
   },
   "outputs": [],
   "source": [
    "outputs = model_decoder(model_encoder(inputs1)[2])\n",
    "model = Model(inputs1, outputs)"
   ]
  },
  {
   "cell_type": "code",
   "execution_count": null,
   "metadata": {
    "collapsed": true
   },
   "outputs": [],
   "source": [
    "def _loss(y_true, y_pred):\n",
    "    reconstruction_loss = image_size * image_size * binary_crossentropy(K.flatten(y_true), K.flatten(y_pred))\n",
    "    kl_loss = -0.5 * K.sum(1 + log_sigma - K.square(mu) - K.exp(log_sigma), axis=-1)\n",
    "    vae_loss = K.mean(reconstruction_loss + kl_loss)\n",
    "    \n",
    "    return vae_loss"
   ]
  },
  {
   "cell_type": "code",
   "execution_count": null,
   "metadata": {
    "collapsed": false
   },
   "outputs": [],
   "source": [
    "adam_ = optimizers.Adam(lr = 1e-4, beta_1=0.9, beta_2=0.999, epsilon=1e-8)"
   ]
  },
  {
   "cell_type": "code",
   "execution_count": null,
   "metadata": {
    "collapsed": false
   },
   "outputs": [],
   "source": [
    "model.compile(optimizer = adam_, loss = _loss)"
   ]
  },
  {
   "cell_type": "code",
   "execution_count": null,
   "metadata": {
    "collapsed": false
   },
   "outputs": [],
   "source": [
    "model.fit_generator(batch_generator(), steps_per_epoch = batches, epochs = 10, shuffle = True)"
   ]
  }
 ],
 "metadata": {
  "kernelspec": {
   "display_name": "Python [py3k]",
   "language": "python",
   "name": "Python [py3k]"
  },
  "language_info": {
   "codemirror_mode": {
    "name": "ipython",
    "version": 3
   },
   "file_extension": ".py",
   "mimetype": "text/x-python",
   "name": "python",
   "nbconvert_exporter": "python",
   "pygments_lexer": "ipython3",
   "version": "3.6.0"
  }
 },
 "nbformat": 4,
 "nbformat_minor": 0
}
